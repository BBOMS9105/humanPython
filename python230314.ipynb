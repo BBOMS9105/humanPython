{
  "nbformat": 4,
  "nbformat_minor": 0,
  "metadata": {
    "colab": {
      "provenance": [],
      "toc_visible": true,
      "authorship_tag": "ABX9TyMUE7PDFNJqJNQnF/YuMonh",
      "include_colab_link": true
    },
    "kernelspec": {
      "name": "python3",
      "display_name": "Python 3"
    },
    "language_info": {
      "name": "python"
    }
  },
  "cells": [
    {
      "cell_type": "markdown",
      "metadata": {
        "id": "view-in-github",
        "colab_type": "text"
      },
      "source": [
        "<a href=\"https://colab.research.google.com/github/BBOMS9105/humanPython/blob/main/python230314.ipynb\" target=\"_parent\"><img src=\"https://colab.research.google.com/assets/colab-badge.svg\" alt=\"Open In Colab\"/></a>"
      ]
    },
    {
      "cell_type": "markdown",
      "source": [
        "# 대분류"
      ],
      "metadata": {
        "id": "HLNQC2I7HIre"
      }
    },
    {
      "cell_type": "markdown",
      "source": [
        "## 자기소개\n",
        "- ㅁㅁㅁㅁ"
      ],
      "metadata": {
        "id": "OTX-puDuGzre"
      }
    },
    {
      "cell_type": "code",
      "source": [
        "1+1"
      ],
      "metadata": {
        "colab": {
          "base_uri": "https://localhost:8080/"
        },
        "id": "gZtjUqf2HTa1",
        "outputId": "fa53a77e-6787-40ce-e7ca-aeea8a235528"
      },
      "execution_count": null,
      "outputs": [
        {
          "output_type": "execute_result",
          "data": {
            "text/plain": [
              "2"
            ]
          },
          "metadata": {},
          "execution_count": 55
        }
      ]
    },
    {
      "cell_type": "markdown",
      "source": [
        "## 파이썬 기초 문법\n",
        "- 주석처리\n",
        "- 여러 줄 주석처리 시\n",
        "  + 함수, 클래스 작성할 때\n",
        "  요긴하게 쓰임 (예 : Docstring)\n",
        "  "
      ],
      "metadata": {
        "id": "1H1L0pi1G3GW"
      }
    },
    {
      "cell_type": "code",
      "source": [
        "# 이 코드는 주석처리\n",
        "\n",
        "'''\n",
        "여러줄 주석처리\n",
        "123123\n",
        "'''\n",
        "\n",
        "\"\"\"\n",
        "여러줄 \n",
        "12414212\n",
        "\"\"\"\n",
        "\n",
        "print(\"Hello World\")"
      ],
      "metadata": {
        "colab": {
          "base_uri": "https://localhost:8080/"
        },
        "id": "H5xeN33CfRWi",
        "outputId": "db1cbb74-7595-49a3-a99c-a50b73033332"
      },
      "execution_count": null,
      "outputs": [
        {
          "output_type": "stream",
          "name": "stdout",
          "text": [
            "Hello World\n"
          ]
        }
      ]
    },
    {
      "cell_type": "markdown",
      "source": [
        "## 변수의 종류 (Scala 자료형)\n",
        "- 크게 4가지 존재 : int, float, bool, None\n",
        "- 더 이상 나누어지지 않는 것\n"
      ],
      "metadata": {
        "id": "EhsAb9v8hYYq"
      }
    },
    {
      "cell_type": "markdown",
      "source": [
        "### int 형 예제\n"
      ],
      "metadata": {
        "id": "nDYcy-Nuhmky"
      }
    },
    {
      "cell_type": "code",
      "source": [
        "temp_int = 1\n",
        "print(temp_int)\n",
        "print(type(temp_int))"
      ],
      "metadata": {
        "colab": {
          "base_uri": "https://localhost:8080/"
        },
        "id": "c8vM-I7oiFtT",
        "outputId": "d4ae17ef-7482-4e18-bb05-3748246608f6"
      },
      "execution_count": null,
      "outputs": [
        {
          "output_type": "stream",
          "name": "stdout",
          "text": [
            "1\n",
            "<class 'int'>\n"
          ]
        }
      ]
    },
    {
      "cell_type": "markdown",
      "source": [
        "- 문자열"
      ],
      "metadata": {
        "id": "i736ck5wi7cz"
      }
    },
    {
      "cell_type": "code",
      "source": [
        "temp_int = '1'\n",
        "print(temp_int)\n",
        "print(type(temp_int))"
      ],
      "metadata": {
        "colab": {
          "base_uri": "https://localhost:8080/"
        },
        "id": "OgpIOazji9UT",
        "outputId": "d219c630-75d0-4955-9eb7-a049690ac8fe"
      },
      "execution_count": null,
      "outputs": [
        {
          "output_type": "stream",
          "name": "stdout",
          "text": [
            "1\n",
            "<class 'str'>\n"
          ]
        }
      ]
    },
    {
      "cell_type": "markdown",
      "source": [
        "### float 형 예제\n",
        "- 실수형"
      ],
      "metadata": {
        "id": "58q0OrMVjgdk"
      }
    },
    {
      "cell_type": "code",
      "source": [
        "num_float = 0.2\n",
        "print(num_float)\n",
        "print(type(num_float))"
      ],
      "metadata": {
        "colab": {
          "base_uri": "https://localhost:8080/"
        },
        "id": "lqDSJUQkjkoI",
        "outputId": "37163a8c-9d8f-45f6-d898-fcbfca090d1f"
      },
      "execution_count": null,
      "outputs": [
        {
          "output_type": "stream",
          "name": "stdout",
          "text": [
            "0.2\n",
            "<class 'float'>\n"
          ]
        }
      ]
    },
    {
      "cell_type": "markdown",
      "source": [
        "### Bool 형\n",
        "- 참, 거짓"
      ],
      "metadata": {
        "id": "bdwanA2LkGRr"
      }
    },
    {
      "cell_type": "code",
      "source": [
        "temp_bool = True\n",
        "temp_bool = False\n",
        "print(temp_bool)\n",
        "print(type(temp_bool))"
      ],
      "metadata": {
        "colab": {
          "base_uri": "https://localhost:8080/"
        },
        "id": "00PA3vk3kJ3V",
        "outputId": "aa2420e5-04ea-48fd-c1a4-b14e8653f9ae"
      },
      "execution_count": null,
      "outputs": [
        {
          "output_type": "stream",
          "name": "stdout",
          "text": [
            "False\n",
            "<class 'bool'>\n"
          ]
        }
      ]
    },
    {
      "cell_type": "markdown",
      "source": [
        "### None 자료형\n",
        "- Null을 나타내는 자료형\n",
        "  + 데이터분석에서 가장 처리하기 까다로운 자료형"
      ],
      "metadata": {
        "id": "Lt1TWPAsk74T"
      }
    },
    {
      "cell_type": "code",
      "source": [
        "temp_none = None\n",
        "print(type(temp_none))"
      ],
      "metadata": {
        "colab": {
          "base_uri": "https://localhost:8080/"
        },
        "id": "yv_ReD5ilVSf",
        "outputId": "49cf9430-40a1-4666-b1e2-62d2f0722712"
      },
      "execution_count": null,
      "outputs": [
        {
          "output_type": "stream",
          "name": "stdout",
          "text": [
            "<class 'NoneType'>\n"
          ]
        }
      ]
    },
    {
      "cell_type": "markdown",
      "source": [
        "## 사칙연산\n",
        "- 정수형 사칙연산 "
      ],
      "metadata": {
        "id": "Xy_ewp4WnINz"
      }
    },
    {
      "cell_type": "code",
      "source": [
        "a = 7\n",
        "b = 2\n",
        "print(a + b)\n",
        "print(a - b)\n",
        "print(a * b)\n",
        "print(a / b)  #나누면 실수형으로 결과를 출력한다 \n",
        "print(a // b) #몫\n",
        "print(a ** b) #제곱\n",
        "print(a % b)  #나머지"
      ],
      "metadata": {
        "colab": {
          "base_uri": "https://localhost:8080/"
        },
        "id": "32grJJllnKy6",
        "outputId": "426767d7-4d3b-4767-c6c1-851953cd270a"
      },
      "execution_count": null,
      "outputs": [
        {
          "output_type": "stream",
          "name": "stdout",
          "text": [
            "9\n",
            "5\n",
            "14\n",
            "3.5\n",
            "3\n",
            "49\n",
            "1\n"
          ]
        }
      ]
    },
    {
      "cell_type": "markdown",
      "source": [
        "### 실수형 사칙연산"
      ],
      "metadata": {
        "id": "uNiDsJurrmo0"
      }
    },
    {
      "cell_type": "code",
      "source": [
        "a = 7.0\n",
        "b = 2.0\n",
        "print(a + b)\n",
        "print(a - b)\n",
        "print(a * b)\n",
        "print(a / b)  #나누면 실수형으로 결과를 출력한다 \n",
        "print(a // b) #몫\n",
        "print(a ** b) #제곱\n",
        "print(a % b)  #나머지"
      ],
      "metadata": {
        "colab": {
          "base_uri": "https://localhost:8080/"
        },
        "id": "v43mS4zgrsG8",
        "outputId": "8053862d-4abe-4efb-ed81-5479897e804b"
      },
      "execution_count": null,
      "outputs": [
        {
          "output_type": "stream",
          "name": "stdout",
          "text": [
            "9.0\n",
            "5.0\n",
            "14.0\n",
            "3.5\n",
            "3.0\n",
            "49.0\n",
            "1.0\n"
          ]
        }
      ]
    },
    {
      "cell_type": "markdown",
      "source": [
        "### 논리형 연산자\n",
        "- AND 조건, OR 조건이 있음"
      ],
      "metadata": {
        "id": "SwQ16J8esHyf"
      }
    },
    {
      "cell_type": "code",
      "source": [
        "print( True and True)\n",
        "print( True and False)\n",
        "print( False and True)\n",
        "print( False and False)"
      ],
      "metadata": {
        "colab": {
          "base_uri": "https://localhost:8080/"
        },
        "id": "lhd8mr1htBPp",
        "outputId": "706135d3-c8d5-4402-b641-3dbe489f73bf"
      },
      "execution_count": null,
      "outputs": [
        {
          "output_type": "stream",
          "name": "stdout",
          "text": [
            "True\n",
            "False\n",
            "False\n",
            "False\n"
          ]
        }
      ]
    },
    {
      "cell_type": "code",
      "source": [
        "print( True or True)\n",
        "print( True or False)\n",
        "print( False or True)\n",
        "print( False or False)"
      ],
      "metadata": {
        "colab": {
          "base_uri": "https://localhost:8080/"
        },
        "id": "XSBFI0WXtTYa",
        "outputId": "bfa6c18b-4585-4f05-a5c5-26d2ef4ee43f"
      },
      "execution_count": null,
      "outputs": [
        {
          "output_type": "stream",
          "name": "stdout",
          "text": [
            "True\n",
            "True\n",
            "True\n",
            "False\n"
          ]
        }
      ]
    },
    {
      "cell_type": "markdown",
      "source": [
        "### 비교 연산자\n",
        "- 비교 연산자는 부등호를 의미함\n",
        "- 왼쪽이 기준 값"
      ],
      "metadata": {
        "id": "2jjkQJOQtr6U"
      }
    },
    {
      "cell_type": "code",
      "source": [
        "print(4 > 3)\n",
        "print(3 > 4)\n",
        "print(3 >= 4)\n",
        "print(3 <= 4)"
      ],
      "metadata": {
        "colab": {
          "base_uri": "https://localhost:8080/"
        },
        "id": "sg8LGQuGtxf6",
        "outputId": "debd4711-d6dc-49d2-a747-347992966b20"
      },
      "execution_count": null,
      "outputs": [
        {
          "output_type": "stream",
          "name": "stdout",
          "text": [
            "True\n",
            "False\n",
            "False\n",
            "True\n"
          ]
        }
      ]
    },
    {
      "cell_type": "markdown",
      "source": [
        "## input()\n",
        "- print() : 출력\n",
        "- input() : 입력"
      ],
      "metadata": {
        "id": "XTlz2P6KuJt8"
      }
    },
    {
      "cell_type": "code",
      "source": [
        "var = input(\"값을 입력해 주세요 : \")\n",
        "var = int(var)\n",
        "print(var)\n",
        "print(type(var))"
      ],
      "metadata": {
        "colab": {
          "base_uri": "https://localhost:8080/"
        },
        "id": "OZNQcmD1y3f1",
        "outputId": "4ec74c48-2245-4a28-c3bd-8b86c44acb72"
      },
      "execution_count": null,
      "outputs": [
        {
          "output_type": "stream",
          "name": "stdout",
          "text": [
            "값을 입력해 주세요 : 3\n",
            "3\n",
            "<class 'int'>\n"
          ]
        }
      ]
    },
    {
      "cell_type": "code",
      "source": [
        "num1 = int(input(\"값을 입력해주세요\"))\n",
        "num2 = int(input(\"값을 입력해주세요\"))\n",
        "\n",
        "result = num1 + num2\n",
        "print(result)\n",
        "print(type(result))"
      ],
      "metadata": {
        "colab": {
          "base_uri": "https://localhost:8080/"
        },
        "id": "nSwg02_LvTed",
        "outputId": "701fcde1-6e32-4b7d-c1c7-9324300eafb6"
      },
      "execution_count": null,
      "outputs": [
        {
          "output_type": "stream",
          "name": "stdout",
          "text": [
            "값을 입력해주세요11\n",
            "값을 입력해주세요89\n",
            "100\n",
            "<class 'int'>\n"
          ]
        }
      ]
    },
    {
      "cell_type": "markdown",
      "source": [
        "## String 자료형\n",
        "- 매우중요\n"
      ],
      "metadata": {
        "id": "19Y52p5m0g_t"
      }
    },
    {
      "cell_type": "markdown",
      "source": [
        "### String 연산자"
      ],
      "metadata": {
        "id": "8OIJe1da7DhH"
      }
    },
    {
      "cell_type": "code",
      "source": [
        "str1 = \"Hello \"\n",
        "str2 = \"World\"\n",
        "print(str1 + str2)"
      ],
      "metadata": {
        "colab": {
          "base_uri": "https://localhost:8080/"
        },
        "id": "AAsnIt7N6DLD",
        "outputId": "b37cde35-ccd0-4bc8-9346-b144b01af840"
      },
      "execution_count": null,
      "outputs": [
        {
          "output_type": "stream",
          "name": "stdout",
          "text": [
            "Hello World\n"
          ]
        }
      ]
    },
    {
      "cell_type": "code",
      "source": [
        "str1 = \"Hello \"\n",
        "str2 = \"World\"\n",
        "\n",
        "result = str1 + str2\n",
        "print(result)"
      ],
      "metadata": {
        "colab": {
          "base_uri": "https://localhost:8080/"
        },
        "id": "GAo_ivw96yxe",
        "outputId": "13d10d79-a7e9-42bf-cba8-2bf9e63d329c"
      },
      "execution_count": null,
      "outputs": [
        {
          "output_type": "stream",
          "name": "stdout",
          "text": [
            "Hello World\n"
          ]
        }
      ]
    },
    {
      "cell_type": "code",
      "source": [
        "str1 = \"55\"\n",
        "str2 = \"1122\"\n",
        "print(int(str1) + int(str2))"
      ],
      "metadata": {
        "colab": {
          "base_uri": "https://localhost:8080/"
        },
        "id": "YeJpXoCp6Z8C",
        "outputId": "ce75144d-f7a0-4ecf-a651-33d2b69ca302"
      },
      "execution_count": null,
      "outputs": [
        {
          "output_type": "stream",
          "name": "stdout",
          "text": [
            "1177\n"
          ]
        }
      ]
    },
    {
      "cell_type": "markdown",
      "source": [
        "- 곱셈 연산자 사용"
      ],
      "metadata": {
        "id": "wrdawhFS6-df"
      }
    },
    {
      "cell_type": "code",
      "source": [
        "greeting = \"Hello World  \"\n",
        "print(greeting * 3)"
      ],
      "metadata": {
        "colab": {
          "base_uri": "https://localhost:8080/"
        },
        "id": "kz-iKMxR7CJ5",
        "outputId": "fc1f0e26-ccb1-4c8d-c0d1-cb9487168957"
      },
      "execution_count": null,
      "outputs": [
        {
          "output_type": "stream",
          "name": "stdout",
          "text": [
            "Hello World  Hello World  Hello World  \n"
          ]
        }
      ]
    },
    {
      "cell_type": "markdown",
      "source": [
        "### Indexing\n",
        "- 중요!\n",
        "- 0번째부터 시작"
      ],
      "metadata": {
        "id": "NpzPWvah7b4-"
      }
    },
    {
      "cell_type": "code",
      "source": [
        "greeting = \"Hello World!\"\n",
        "print(greeting[4])\n",
        "print(greeting[-1])"
      ],
      "metadata": {
        "colab": {
          "base_uri": "https://localhost:8080/"
        },
        "id": "EExbzoEk7gHn",
        "outputId": "58ded041-9562-4e8a-be9a-ebcf207d13f9"
      },
      "execution_count": null,
      "outputs": [
        {
          "output_type": "stream",
          "name": "stdout",
          "text": [
            "o\n",
            "!\n"
          ]
        }
      ]
    },
    {
      "cell_type": "markdown",
      "source": [
        "### 슬라이싱\n",
        "- 자름\n",
        "\n",
        "\n"
      ],
      "metadata": {
        "id": "SP6h5XPL8gYv"
      }
    },
    {
      "cell_type": "code",
      "source": [
        "greeting = \"Hello World\"\n",
        "print(greeting[0:5])\n",
        "print(greeting[:])\n",
        "print(greeting[6:])\n",
        "print(greeting[3:8])\n",
        "print(greeting[0:9:2])"
      ],
      "metadata": {
        "colab": {
          "base_uri": "https://localhost:8080/"
        },
        "id": "SQI25GPU9Xva",
        "outputId": "fb1bd338-7483-4c3e-9dde-e86f105c626b"
      },
      "execution_count": null,
      "outputs": [
        {
          "output_type": "stream",
          "name": "stdout",
          "text": [
            "Hello\n",
            "Hello World\n",
            "World\n",
            "lo Wo\n",
            "HloWr\n"
          ]
        }
      ]
    },
    {
      "cell_type": "code",
      "source": [
        "greeting = \"Hello World\"\n",
        "greeting[13]"
      ],
      "metadata": {
        "colab": {
          "base_uri": "https://localhost:8080/",
          "height": 193
        },
        "id": "PnEK1V7t-0A_",
        "outputId": "c9998e60-9c09-47a6-9803-ec748b26e741"
      },
      "execution_count": null,
      "outputs": [
        {
          "output_type": "error",
          "ename": "IndexError",
          "evalue": "ignored",
          "traceback": [
            "\u001b[0;31m---------------------------------------------------------------------------\u001b[0m",
            "\u001b[0;31mIndexError\u001b[0m                                Traceback (most recent call last)",
            "\u001b[0;32m<ipython-input-21-b57f1c26aed4>\u001b[0m in \u001b[0;36m<module>\u001b[0;34m\u001b[0m\n\u001b[1;32m      1\u001b[0m \u001b[0mgreeting\u001b[0m \u001b[0;34m=\u001b[0m \u001b[0;34m\"Hello World\"\u001b[0m\u001b[0;34m\u001b[0m\u001b[0;34m\u001b[0m\u001b[0m\n\u001b[0;32m----> 2\u001b[0;31m \u001b[0mgreeting\u001b[0m\u001b[0;34m[\u001b[0m\u001b[0;36m13\u001b[0m\u001b[0;34m]\u001b[0m\u001b[0;34m\u001b[0m\u001b[0;34m\u001b[0m\u001b[0m\n\u001b[0m",
            "\u001b[0;31mIndexError\u001b[0m: string index out of range"
          ]
        }
      ]
    },
    {
      "cell_type": "markdown",
      "source": [
        "### 문자열의 함수들\n",
        "- 공식문서\n"
      ],
      "metadata": {
        "id": "uviewwR5_zG5"
      }
    },
    {
      "cell_type": "markdown",
      "source": [],
      "metadata": {
        "id": "xlm6dVNeJTox"
      }
    },
    {
      "cell_type": "markdown",
      "source": [
        "## 문자열은 어떻게 만들고 사용할까?\n",
        "- 1. 큰따옴표(\")로 양쪽 둘러싸기"
      ],
      "metadata": {
        "id": "6LLxnFhpJHYO"
      }
    },
    {
      "cell_type": "code",
      "source": [
        "\"Hello World\""
      ],
      "metadata": {
        "id": "OMliS2AtJRCa"
      },
      "execution_count": null,
      "outputs": []
    },
    {
      "cell_type": "markdown",
      "source": [
        "- 2. 작은따옴표(')로 양쪽 감싸기"
      ],
      "metadata": {
        "id": "zpM4bKc_JU0Y"
      }
    },
    {
      "cell_type": "code",
      "source": [
        "'Python is fun'"
      ],
      "metadata": {
        "id": "nFs2MnPyJbMw"
      },
      "execution_count": null,
      "outputs": []
    },
    {
      "cell_type": "markdown",
      "source": [
        "- 3. 큰따옴표 3개를 연속(\"\"\")으로 써서 양쪽 둘러싸기"
      ],
      "metadata": {
        "id": "9yCzDzr7JdbZ"
      }
    },
    {
      "cell_type": "code",
      "source": [
        "\"\"\" ABAABAB \"\"\""
      ],
      "metadata": {
        "id": "EA7V9SK8Jgrx"
      },
      "execution_count": null,
      "outputs": []
    },
    {
      "cell_type": "markdown",
      "source": [
        "- 4. 작은따옴표 3개를 연속(''')으로 써서 양쪽 둘러싸기"
      ],
      "metadata": {
        "id": "LNr8uNAIJimJ"
      }
    },
    {
      "cell_type": "code",
      "source": [
        "''' ABBABBA '''"
      ],
      "metadata": {
        "id": "PP2EmnOuJnfZ"
      },
      "execution_count": null,
      "outputs": []
    },
    {
      "cell_type": "markdown",
      "source": [
        "### 문자열 안에 작은따옴표나 큰따옴표를 포함시키고 싶을 때\n",
        "- 1. 문자열에 작은따옴표 (') 포함시키기\n"
      ],
      "metadata": {
        "id": "51ligefXJunY"
      }
    },
    {
      "cell_type": "code",
      "source": [
        "food = \"Python's favourite food is perl\"\n",
        "food"
      ],
      "metadata": {
        "colab": {
          "base_uri": "https://localhost:8080/",
          "height": 35
        },
        "id": "GNbdcy9zJ3bh",
        "outputId": "d71ff2ff-d6d2-43b1-e638-019185738926"
      },
      "execution_count": null,
      "outputs": [
        {
          "output_type": "execute_result",
          "data": {
            "text/plain": [
              "\"Python's favourite food is perl\""
            ],
            "application/vnd.google.colaboratory.intrinsic+json": {
              "type": "string"
            }
          },
          "metadata": {},
          "execution_count": 22
        }
      ]
    },
    {
      "cell_type": "markdown",
      "source": [
        "- 2. 문자열에 큰따옴표 (\") 포함시키기\n"
      ],
      "metadata": {
        "id": "i9-z_uhuKImh"
      }
    },
    {
      "cell_type": "code",
      "source": [
        "say = '\"Python is very easy.\" he says.'"
      ],
      "metadata": {
        "id": "H-FOfJ3BKNL4"
      },
      "execution_count": null,
      "outputs": []
    },
    {
      "cell_type": "markdown",
      "source": [
        "- 3. 백슬래시(\\)를 사용해서 작은따옴표(')와 큰따옴표(\")를 문자열에 포함시키기"
      ],
      "metadata": {
        "id": "Ax8A23hZKXmo"
      }
    },
    {
      "cell_type": "code",
      "source": [
        "food = 'Python\\'s favourite food is perl'\n",
        "say = \"\\\"Python is very easy.\\\" he says.\""
      ],
      "metadata": {
        "id": "iNgCVwwaKefR"
      },
      "execution_count": null,
      "outputs": []
    },
    {
      "cell_type": "markdown",
      "source": [
        "### 여러 줄인 문자열을 변수에 대입하고 싶을 때\n",
        "- 1. 줄을 바꾸기 위한 이스케이프 코드 \\n 삽입하기"
      ],
      "metadata": {
        "id": "3P--NI4rKyIJ"
      }
    },
    {
      "cell_type": "code",
      "source": [
        "multiline = \"life is too short／nYou need python\""
      ],
      "metadata": {
        "colab": {
          "base_uri": "https://localhost:8080/",
          "height": 35
        },
        "id": "Ic5lp5O_K6Yx",
        "outputId": "dd7b2f6e-50cc-4251-c7df-307c26e3b733"
      },
      "execution_count": null,
      "outputs": [
        {
          "output_type": "execute_result",
          "data": {
            "text/plain": [
              "'life is too short／nYou need python'"
            ],
            "application/vnd.google.colaboratory.intrinsic+json": {
              "type": "string"
            }
          },
          "metadata": {},
          "execution_count": 28
        }
      ]
    },
    {
      "cell_type": "markdown",
      "source": [
        "- 2. 연속된 작은따옴표 3개(''') 또는 큰따옴표 3개(\"\"\") 사용하기"
      ],
      "metadata": {
        "id": "SDSIeJUnMi3h"
      }
    },
    {
      "cell_type": "code",
      "source": [
        "multiline='''\n",
        "Life is too short\n",
        "You need python\n",
        "'''"
      ],
      "metadata": {
        "id": "B2IUQ9QnMlr8"
      },
      "execution_count": null,
      "outputs": []
    },
    {
      "cell_type": "code",
      "source": [
        "multiline=\"\"\"\n",
        "Life is too short\n",
        "You need python\n",
        "\"\"\""
      ],
      "metadata": {
        "id": "25dT2xIBMt6q"
      },
      "execution_count": null,
      "outputs": []
    },
    {
      "cell_type": "markdown",
      "source": [
        "### 문자열 연산하기\n",
        "- 1. 문자열 더해서 연결하기(Connection)"
      ],
      "metadata": {
        "id": "4zXKV7brMrCR"
      }
    },
    {
      "cell_type": "code",
      "source": [
        "head = \"Python\"\n",
        "tail = \" is fun!\"\n",
        "head + tail"
      ],
      "metadata": {
        "colab": {
          "base_uri": "https://localhost:8080/",
          "height": 35
        },
        "id": "02KUTpWcM7WZ",
        "outputId": "5321d954-1d86-4728-a49b-748eb3bc6e17"
      },
      "execution_count": null,
      "outputs": [
        {
          "output_type": "execute_result",
          "data": {
            "text/plain": [
              "'Python is fun!'"
            ],
            "application/vnd.google.colaboratory.intrinsic+json": {
              "type": "string"
            }
          },
          "metadata": {},
          "execution_count": 30
        }
      ]
    },
    {
      "cell_type": "markdown",
      "source": [
        "- 2. 문자열 곱하기"
      ],
      "metadata": {
        "id": "cCq9U--uNWcq"
      }
    },
    {
      "cell_type": "code",
      "source": [
        "a = \"python\"\n",
        "a * 2"
      ],
      "metadata": {
        "colab": {
          "base_uri": "https://localhost:8080/",
          "height": 35
        },
        "id": "9C8fI3pyNZua",
        "outputId": "a187a744-b898-40f4-e8f8-fafb0e217d8d"
      },
      "execution_count": null,
      "outputs": [
        {
          "output_type": "execute_result",
          "data": {
            "text/plain": [
              "'pythonpython'"
            ],
            "application/vnd.google.colaboratory.intrinsic+json": {
              "type": "string"
            }
          },
          "metadata": {},
          "execution_count": 31
        }
      ]
    },
    {
      "cell_type": "markdown",
      "source": [
        "- 3. 문자열 길이 구하기"
      ],
      "metadata": {
        "id": "3O-rqV1fNbsC"
      }
    },
    {
      "cell_type": "code",
      "source": [
        "a = \"Life is too short\"\n",
        "len(a)"
      ],
      "metadata": {
        "colab": {
          "base_uri": "https://localhost:8080/"
        },
        "id": "WYxnPw-7NfAB",
        "outputId": "fa92f2e8-093d-447b-e6c5-8951017282fe"
      },
      "execution_count": null,
      "outputs": [
        {
          "output_type": "execute_result",
          "data": {
            "text/plain": [
              "17"
            ]
          },
          "metadata": {},
          "execution_count": 32
        }
      ]
    },
    {
      "cell_type": "markdown",
      "source": [
        "## 문자열 인덱싱과 슬라이싱\n",
        "- 1. 문자열 인덱싱 활용하기"
      ],
      "metadata": {
        "id": "rlN4q2G2Nvua"
      }
    },
    {
      "cell_type": "code",
      "source": [
        "a = \"Life is too short, You need Python\"\n",
        "a[0]\n",
        "a[12]\n",
        "a[-1]"
      ],
      "metadata": {
        "colab": {
          "base_uri": "https://localhost:8080/",
          "height": 35
        },
        "id": "6n6an4M8NvYa",
        "outputId": "849fa339-1bea-4f19-c55e-54a4d136ecbe"
      },
      "execution_count": null,
      "outputs": [
        {
          "output_type": "execute_result",
          "data": {
            "text/plain": [
              "'n'"
            ],
            "application/vnd.google.colaboratory.intrinsic+json": {
              "type": "string"
            }
          },
          "metadata": {},
          "execution_count": 33
        }
      ]
    },
    {
      "cell_type": "markdown",
      "source": [
        "- 2. 문자열에서 단어 뽑아내기"
      ],
      "metadata": {
        "id": "dniZwh50OI7V"
      }
    },
    {
      "cell_type": "code",
      "source": [
        "a = \"Life is too short, You need Python\"\n",
        "b = a[0] + a[1] + a[2] + a[3]\n",
        "b"
      ],
      "metadata": {
        "colab": {
          "base_uri": "https://localhost:8080/",
          "height": 35
        },
        "id": "r5o2SbBjOMxZ",
        "outputId": "f77e5503-1408-416b-b7f1-23f330a5c79a"
      },
      "execution_count": null,
      "outputs": [
        {
          "output_type": "execute_result",
          "data": {
            "text/plain": [
              "'Life'"
            ],
            "application/vnd.google.colaboratory.intrinsic+json": {
              "type": "string"
            }
          },
          "metadata": {},
          "execution_count": 34
        }
      ]
    },
    {
      "cell_type": "markdown",
      "source": [
        "- 3. 슬라이싱으로 문자열 나누기\n"
      ],
      "metadata": {
        "id": "dpzdL87nPUiS"
      }
    },
    {
      "cell_type": "code",
      "source": [
        "a = \"20010331Rainy\"\n",
        "date = a[:8]\n",
        "weather = a[8:]\n",
        "print(date, weather)"
      ],
      "metadata": {
        "colab": {
          "base_uri": "https://localhost:8080/"
        },
        "id": "xvsStdnmPdxh",
        "outputId": "c9a47253-5a0b-41b5-fd63-37afeaccd0b8"
      },
      "execution_count": null,
      "outputs": [
        {
          "output_type": "stream",
          "name": "stdout",
          "text": [
            "20010331 Rainy\n"
          ]
        }
      ]
    },
    {
      "cell_type": "markdown",
      "source": [
        "## 문자열 포매팅"
      ],
      "metadata": {
        "id": "_a2ZcRldPrI8"
      }
    },
    {
      "cell_type": "markdown",
      "source": [
        "- 1. 숫자 바로 대입"
      ],
      "metadata": {
        "id": "waBoV2v3P6KJ"
      }
    },
    {
      "cell_type": "code",
      "source": [
        "\"I eat %d apples.\" % 3"
      ],
      "metadata": {
        "colab": {
          "base_uri": "https://localhost:8080/",
          "height": 35
        },
        "id": "IP0vTsOYP4RZ",
        "outputId": "3b46b59f-5784-4693-d454-ccb3c8251a7d"
      },
      "execution_count": null,
      "outputs": [
        {
          "output_type": "execute_result",
          "data": {
            "text/plain": [
              "'I eat 3 apples.'"
            ],
            "application/vnd.google.colaboratory.intrinsic+json": {
              "type": "string"
            }
          },
          "metadata": {},
          "execution_count": 38
        }
      ]
    },
    {
      "cell_type": "markdown",
      "source": [
        "- 2. 문자열 바로 대입"
      ],
      "metadata": {
        "id": "yo9OfmLSP9wy"
      }
    },
    {
      "cell_type": "code",
      "source": [
        "\"I eat %s apples.\" % \"five\""
      ],
      "metadata": {
        "id": "Se67bU-xP_sK",
        "outputId": "92ca5806-6613-4b7e-f03e-411b7a878a20",
        "colab": {
          "base_uri": "https://localhost:8080/",
          "height": 35
        }
      },
      "execution_count": null,
      "outputs": [
        {
          "output_type": "execute_result",
          "data": {
            "text/plain": [
              "'I eat five apples.'"
            ],
            "application/vnd.google.colaboratory.intrinsic+json": {
              "type": "string"
            }
          },
          "metadata": {},
          "execution_count": 40
        }
      ]
    },
    {
      "cell_type": "markdown",
      "source": [
        "- 3. 2개 이상의 값 넣기\n"
      ],
      "metadata": {
        "id": "c6nifD1KhZjp"
      }
    },
    {
      "cell_type": "code",
      "source": [
        "number = 10\n",
        "day = \"three\"\n",
        "\"I ate %d apples. so I was sick for %s days.\" % (number, day)"
      ],
      "metadata": {
        "colab": {
          "base_uri": "https://localhost:8080/",
          "height": 35
        },
        "id": "4ACLXgFXhdqg",
        "outputId": "3bd179fb-7b89-48a0-9175-fddf124a4cc3"
      },
      "execution_count": null,
      "outputs": [
        {
          "output_type": "execute_result",
          "data": {
            "text/plain": [
              "'I ate 10 apples. so I was sick for three days.'"
            ],
            "application/vnd.google.colaboratory.intrinsic+json": {
              "type": "string"
            }
          },
          "metadata": {},
          "execution_count": 1
        }
      ]
    },
    {
      "cell_type": "markdown",
      "source": [
        "4. 문자열 포맷 코드\n",
        "\n",
        "- %s 문자열(String)\n",
        "- %c 문자열 1개 (Character)\n",
        "- %d 정수 (Interger)\n",
        "- %f 부동소수 (floating-point)\n",
        "- %o 8진수\n",
        "- %x 16진수\n",
        "- %% Literal%(문자 % 자체)"
      ],
      "metadata": {
        "id": "99W8iXgahxvZ"
      }
    },
    {
      "cell_type": "markdown",
      "source": [
        "### format 함수를 사용한 포매팅\n",
        "- 1. 숫자 바로 대입하기"
      ],
      "metadata": {
        "id": "1otl_OyIiKBo"
      }
    },
    {
      "cell_type": "code",
      "source": [
        "\"I eat {0} apples.\".format(3)"
      ],
      "metadata": {
        "colab": {
          "base_uri": "https://localhost:8080/",
          "height": 35
        },
        "id": "ah4OYq15iSah",
        "outputId": "51c7fe88-afcb-45b1-e133-2c90801d92c5"
      },
      "execution_count": null,
      "outputs": [
        {
          "output_type": "execute_result",
          "data": {
            "text/plain": [
              "'I eat 3 apples.'"
            ],
            "application/vnd.google.colaboratory.intrinsic+json": {
              "type": "string"
            }
          },
          "metadata": {},
          "execution_count": 2
        }
      ]
    },
    {
      "cell_type": "markdown",
      "source": [
        "- 2. 문자열 바로 대입하기\n"
      ],
      "metadata": {
        "id": "Ee_fxZ_Kia4Y"
      }
    },
    {
      "cell_type": "code",
      "source": [
        "\"I eat {0} apples.\".format(\"five\")"
      ],
      "metadata": {
        "colab": {
          "base_uri": "https://localhost:8080/",
          "height": 35
        },
        "id": "u8pGU3lhidfw",
        "outputId": "e02ac22b-49c6-46d1-c08a-7e5fd6f518d1"
      },
      "execution_count": null,
      "outputs": [
        {
          "output_type": "execute_result",
          "data": {
            "text/plain": [
              "'I eat five apples.'"
            ],
            "application/vnd.google.colaboratory.intrinsic+json": {
              "type": "string"
            }
          },
          "metadata": {},
          "execution_count": 4
        }
      ]
    },
    {
      "cell_type": "markdown",
      "source": [
        "- 3. 숫자값을 가진 변수로 대입하기"
      ],
      "metadata": {
        "id": "wh_qNKCFii1J"
      }
    },
    {
      "cell_type": "code",
      "source": [
        "number = 3\n",
        "\"I eat {0} apples\".format(number)"
      ],
      "metadata": {
        "colab": {
          "base_uri": "https://localhost:8080/",
          "height": 35
        },
        "id": "HFsJEoPrileh",
        "outputId": "8fee58fb-dbc1-4b10-eb8f-58b36003dfdd"
      },
      "execution_count": null,
      "outputs": [
        {
          "output_type": "execute_result",
          "data": {
            "text/plain": [
              "'I eat 3 apples'"
            ],
            "application/vnd.google.colaboratory.intrinsic+json": {
              "type": "string"
            }
          },
          "metadata": {},
          "execution_count": 5
        }
      ]
    },
    {
      "cell_type": "markdown",
      "source": [
        "- 4. 2개 이상의 값 넣기"
      ],
      "metadata": {
        "id": "3ay_0lQaistx"
      }
    },
    {
      "cell_type": "code",
      "source": [
        "number = 3\n",
        "day = \"three\"\n",
        "\"I eat {0} apples. So I was sick for {1} days\".format(number,day)"
      ],
      "metadata": {
        "colab": {
          "base_uri": "https://localhost:8080/",
          "height": 35
        },
        "id": "xfeZGSlTivnL",
        "outputId": "35808a4a-2002-4997-b6d9-d96425568dda"
      },
      "execution_count": null,
      "outputs": [
        {
          "output_type": "execute_result",
          "data": {
            "text/plain": [
              "'I eat 3 apples. So I was sick for three days'"
            ],
            "application/vnd.google.colaboratory.intrinsic+json": {
              "type": "string"
            }
          },
          "metadata": {},
          "execution_count": 7
        }
      ]
    },
    {
      "cell_type": "markdown",
      "source": [
        "- 5. 이름으로 넣기"
      ],
      "metadata": {
        "id": "uwJndTaSi9w5"
      }
    },
    {
      "cell_type": "code",
      "source": [
        "\"I ate {number} apples. so I was sick for {day} days.\".format(number=10, day=3)"
      ],
      "metadata": {
        "colab": {
          "base_uri": "https://localhost:8080/",
          "height": 35
        },
        "id": "1kAK3LuwjAIh",
        "outputId": "178bef8c-124a-49a4-c397-a1a0c735b132"
      },
      "execution_count": null,
      "outputs": [
        {
          "output_type": "execute_result",
          "data": {
            "text/plain": [
              "'I ate 10 apples. so I was sick for 3 days.'"
            ],
            "application/vnd.google.colaboratory.intrinsic+json": {
              "type": "string"
            }
          },
          "metadata": {},
          "execution_count": 8
        }
      ]
    },
    {
      "cell_type": "markdown",
      "source": [
        "- 6. 인덱스와 이름을 혼용해서 넣기"
      ],
      "metadata": {
        "id": "NhhxPj9SjDw5"
      }
    },
    {
      "cell_type": "code",
      "source": [
        "\"I ate {0} apples. so I was sick for {day} days.\".format(10, day=3)"
      ],
      "metadata": {
        "colab": {
          "base_uri": "https://localhost:8080/",
          "height": 35
        },
        "id": "PrIA6zA7jF4O",
        "outputId": "524d0ca3-6f5c-4534-9bfc-feed0b37d0e0"
      },
      "execution_count": null,
      "outputs": [
        {
          "output_type": "execute_result",
          "data": {
            "text/plain": [
              "'I ate 10 apples. so I was sick for 3 days.'"
            ],
            "application/vnd.google.colaboratory.intrinsic+json": {
              "type": "string"
            }
          },
          "metadata": {},
          "execution_count": 9
        }
      ]
    },
    {
      "cell_type": "markdown",
      "source": [
        "## 정렬\n",
        "- 1. 왼쪽 정렬"
      ],
      "metadata": {
        "id": "Gw37xSbhjJzh"
      }
    },
    {
      "cell_type": "code",
      "source": [
        "\"{0:<10}\".format(\"hi\")"
      ],
      "metadata": {
        "colab": {
          "base_uri": "https://localhost:8080/",
          "height": 35
        },
        "id": "Kk3LUhoSjLql",
        "outputId": "68590682-d3c9-4df7-ddf5-f703c394c46a"
      },
      "execution_count": null,
      "outputs": [
        {
          "output_type": "execute_result",
          "data": {
            "text/plain": [
              "'hi        '"
            ],
            "application/vnd.google.colaboratory.intrinsic+json": {
              "type": "string"
            }
          },
          "metadata": {},
          "execution_count": 10
        }
      ]
    },
    {
      "cell_type": "markdown",
      "source": [
        "- 2. 오른쪽 정렬"
      ],
      "metadata": {
        "id": "st7TNcFojOVI"
      }
    },
    {
      "cell_type": "code",
      "source": [
        "\"{0:>10}\".format(\"hi\")"
      ],
      "metadata": {
        "colab": {
          "base_uri": "https://localhost:8080/",
          "height": 35
        },
        "id": "EUuvgIZAjQAk",
        "outputId": "2ecc139b-d4db-4795-b057-70e3fb3bedfa"
      },
      "execution_count": null,
      "outputs": [
        {
          "output_type": "execute_result",
          "data": {
            "text/plain": [
              "'        hi'"
            ],
            "application/vnd.google.colaboratory.intrinsic+json": {
              "type": "string"
            }
          },
          "metadata": {},
          "execution_count": 11
        }
      ]
    },
    {
      "cell_type": "markdown",
      "source": [
        "- 3. 가운데 정렬"
      ],
      "metadata": {
        "id": "rK8kFxPpjUO3"
      }
    },
    {
      "cell_type": "code",
      "source": [
        "\"{0:^10}\".format(\"hi\")"
      ],
      "metadata": {
        "colab": {
          "base_uri": "https://localhost:8080/",
          "height": 35
        },
        "id": "TOTbOkSHjVkl",
        "outputId": "af8c8700-0d87-4f94-fcf2-18e5971f3c78"
      },
      "execution_count": null,
      "outputs": [
        {
          "output_type": "execute_result",
          "data": {
            "text/plain": [
              "'    hi    '"
            ],
            "application/vnd.google.colaboratory.intrinsic+json": {
              "type": "string"
            }
          },
          "metadata": {},
          "execution_count": 12
        }
      ]
    },
    {
      "cell_type": "markdown",
      "source": [
        "- 4. 공백 채우기"
      ],
      "metadata": {
        "id": "aaK-hCxGjY3w"
      }
    },
    {
      "cell_type": "code",
      "source": [
        "\"{0:=^10}\".format(\"hi\")"
      ],
      "metadata": {
        "colab": {
          "base_uri": "https://localhost:8080/",
          "height": 35
        },
        "id": "SrLDlCVNja7W",
        "outputId": "8d2ddfb4-1bce-4fab-df21-e5f1fc13a958"
      },
      "execution_count": null,
      "outputs": [
        {
          "output_type": "execute_result",
          "data": {
            "text/plain": [
              "'====hi===='"
            ],
            "application/vnd.google.colaboratory.intrinsic+json": {
              "type": "string"
            }
          },
          "metadata": {},
          "execution_count": 13
        }
      ]
    },
    {
      "cell_type": "code",
      "source": [
        "\"{0:!<10}\".format(\"hi\")"
      ],
      "metadata": {
        "colab": {
          "base_uri": "https://localhost:8080/",
          "height": 35
        },
        "id": "4Vinxm5IjdP7",
        "outputId": "08ed54eb-499c-47a7-887e-1e5e476e6d96"
      },
      "execution_count": null,
      "outputs": [
        {
          "output_type": "execute_result",
          "data": {
            "text/plain": [
              "'hi!!!!!!!!'"
            ],
            "application/vnd.google.colaboratory.intrinsic+json": {
              "type": "string"
            }
          },
          "metadata": {},
          "execution_count": 14
        }
      ]
    },
    {
      "cell_type": "markdown",
      "source": [
        "- 5. 소수점 표현하기"
      ],
      "metadata": {
        "id": "n918Itf5jf9A"
      }
    },
    {
      "cell_type": "code",
      "source": [
        "y = 3.42134234\n",
        "\"{0:0.4f}\".format(y)"
      ],
      "metadata": {
        "colab": {
          "base_uri": "https://localhost:8080/",
          "height": 35
        },
        "id": "_z6aU1gXjiPK",
        "outputId": "69a44948-64f7-4d30-ba00-6d0d14587790"
      },
      "execution_count": null,
      "outputs": [
        {
          "output_type": "execute_result",
          "data": {
            "text/plain": [
              "'3.4213'"
            ],
            "application/vnd.google.colaboratory.intrinsic+json": {
              "type": "string"
            }
          },
          "metadata": {},
          "execution_count": 15
        }
      ]
    },
    {
      "cell_type": "markdown",
      "source": [
        "6. { 또는 } 문자 표현하기"
      ],
      "metadata": {
        "id": "7D8vuCFbjlq5"
      }
    },
    {
      "cell_type": "code",
      "source": [
        "\"{{ and }}\".format()"
      ],
      "metadata": {
        "colab": {
          "base_uri": "https://localhost:8080/",
          "height": 35
        },
        "id": "V3WgpuU8jnkG",
        "outputId": "8a88ebc0-b827-4047-8dae-6cb7a0081fe8"
      },
      "execution_count": null,
      "outputs": [
        {
          "output_type": "execute_result",
          "data": {
            "text/plain": [
              "'{ and }'"
            ],
            "application/vnd.google.colaboratory.intrinsic+json": {
              "type": "string"
            }
          },
          "metadata": {},
          "execution_count": 16
        }
      ]
    },
    {
      "cell_type": "markdown",
      "source": [
        "- 7. f 문자열 포매팅"
      ],
      "metadata": {
        "id": "HsxErl7EjrKA"
      }
    },
    {
      "cell_type": "code",
      "source": [
        "name = '홍길동'\n",
        "age = 30\n",
        "f'나의 이름은 {name}입니다. 나이는 {age}입니다.'"
      ],
      "metadata": {
        "colab": {
          "base_uri": "https://localhost:8080/",
          "height": 35
        },
        "id": "2GF5345Rjs68",
        "outputId": "b8755e4e-7046-41cb-d58d-40e90bc71a06"
      },
      "execution_count": null,
      "outputs": [
        {
          "output_type": "execute_result",
          "data": {
            "text/plain": [
              "'나의 이름은 홍길동입니다. 나이는 30입니다.'"
            ],
            "application/vnd.google.colaboratory.intrinsic+json": {
              "type": "string"
            }
          },
          "metadata": {},
          "execution_count": 17
        }
      ]
    },
    {
      "cell_type": "markdown",
      "source": [
        "f 문자열 포매팅은 위와 같이 name, age와 같은 변수 값을 생성한 후에 그 값을 참조할 수 있다. 또한 f 문자열 포매팅은 표현식을 지원하기 때문에 다음과 같은 것도 가능하다.\n",
        "\n",
        "표현식이란 문자열 안에서 변수와 +, -와 같은 수식을 함께 사용하는 것을 말한다."
      ],
      "metadata": {
        "id": "6e1ZLcNqjzfo"
      }
    },
    {
      "cell_type": "code",
      "source": [
        "age = 30\n",
        "f'나는 내년이면 {age + 1}살이 된다.'"
      ],
      "metadata": {
        "colab": {
          "base_uri": "https://localhost:8080/",
          "height": 35
        },
        "id": "OBUSWjUJj2Hh",
        "outputId": "8378e893-ba1e-46de-fd23-7e365fee3ae4"
      },
      "execution_count": null,
      "outputs": [
        {
          "output_type": "execute_result",
          "data": {
            "text/plain": [
              "'나는 내년이면 31살이 된다.'"
            ],
            "application/vnd.google.colaboratory.intrinsic+json": {
              "type": "string"
            }
          },
          "metadata": {},
          "execution_count": 37
        }
      ]
    },
    {
      "cell_type": "markdown",
      "source": [
        "## 문자열 관련 함수들 (수업)\n",
        "- 공식문서"
      ],
      "metadata": {
        "id": "Xd9yEnJMBMso"
      }
    },
    {
      "cell_type": "code",
      "source": [
        "tmp_string = 'Java'\n",
        "\n",
        "#변수명 저장과 동시에 클래스로 바뀜\n",
        "print(tmp_string.upper())\n",
        "print(tmp_string.lower())"
      ],
      "metadata": {
        "colab": {
          "base_uri": "https://localhost:8080/"
        },
        "id": "txhKIpM8BRCs",
        "outputId": "001d37af-6d45-4494-815a-0663dca590a7"
      },
      "execution_count": null,
      "outputs": [
        {
          "output_type": "stream",
          "name": "stdout",
          "text": [
            "JAVA\n",
            "java\n"
          ]
        }
      ]
    },
    {
      "cell_type": "markdown",
      "source": [
        "- 텍스트 분리"
      ],
      "metadata": {
        "id": "ZBn-YuZlEDzw"
      }
    },
    {
      "cell_type": "code",
      "source": [
        "tmp_string = 'BMW-BENZ-TESLA-KIA'\n",
        "\n",
        "#변수명 저장과 동시에 클래스로 바뀜\n",
        "print(tmp_string.split('-'))\n",
        "#split(sep = '-')"
      ],
      "metadata": {
        "colab": {
          "base_uri": "https://localhost:8080/"
        },
        "id": "Boy2w3T6D6yB",
        "outputId": "aa58bc1f-54c0-48b0-ad36-707fde158d2a"
      },
      "execution_count": null,
      "outputs": [
        {
          "output_type": "stream",
          "name": "stdout",
          "text": [
            "['BMW', 'BENZ', 'TESLA', 'KIA']\n"
          ]
        }
      ]
    },
    {
      "cell_type": "markdown",
      "source": [
        "참조 : [Python Docs](https://docs.python.org/3/library/stdtypes.html#str.split)"
      ],
      "metadata": {
        "id": "QLtQXXzFEeFI"
      }
    },
    {
      "cell_type": "markdown",
      "source": [],
      "metadata": {
        "id": "GVHOOyIMBfPb"
      }
    },
    {
      "cell_type": "markdown",
      "source": [
        "## 문자열 관련 함수들\n",
        "- 1. 문자 개수 세기(count)"
      ],
      "metadata": {
        "id": "x-2379X_kHbA"
      }
    },
    {
      "cell_type": "code",
      "source": [
        "a = \"hobby\"\n",
        "a.count('b')"
      ],
      "metadata": {
        "colab": {
          "base_uri": "https://localhost:8080/"
        },
        "id": "XrIyPH8ZkLJi",
        "outputId": "9fbf98a0-57e3-4713-b8c1-1d56f9611403"
      },
      "execution_count": null,
      "outputs": [
        {
          "output_type": "execute_result",
          "data": {
            "text/plain": [
              "2"
            ]
          },
          "metadata": {},
          "execution_count": 22
        }
      ]
    },
    {
      "cell_type": "markdown",
      "source": [
        "- 2. 위치 알려주기1 (find)"
      ],
      "metadata": {
        "id": "jFRJBfySkPfS"
      }
    },
    {
      "cell_type": "code",
      "source": [
        "a = \"Python is the best choice\"\n",
        "a.find('b')"
      ],
      "metadata": {
        "colab": {
          "base_uri": "https://localhost:8080/"
        },
        "id": "sG7foROvkRwe",
        "outputId": "ee2d5c62-ae34-4000-ce7e-cecbc5ba8ca5"
      },
      "execution_count": null,
      "outputs": [
        {
          "output_type": "execute_result",
          "data": {
            "text/plain": [
              "14"
            ]
          },
          "metadata": {},
          "execution_count": 23
        }
      ]
    },
    {
      "cell_type": "markdown",
      "source": [
        "- 3. 위치 알려주기2(index)"
      ],
      "metadata": {
        "id": "i6apSbmgkWIR"
      }
    },
    {
      "cell_type": "code",
      "source": [
        " a = \"Life is too short\"\n",
        "a.index('t')\n",
        "8"
      ],
      "metadata": {
        "colab": {
          "base_uri": "https://localhost:8080/"
        },
        "id": "6RVy2urykYp5",
        "outputId": "cbdac589-d874-44ed-f51a-87fa06d9d0be"
      },
      "execution_count": null,
      "outputs": [
        {
          "output_type": "execute_result",
          "data": {
            "text/plain": [
              "8"
            ]
          },
          "metadata": {},
          "execution_count": 24
        }
      ]
    },
    {
      "cell_type": "markdown",
      "source": [
        "- 4. 문자열 삽입(join)"
      ],
      "metadata": {
        "id": "_f26CKEikenG"
      }
    },
    {
      "cell_type": "code",
      "source": [
        "\",\".join('abcd')"
      ],
      "metadata": {
        "colab": {
          "base_uri": "https://localhost:8080/",
          "height": 35
        },
        "id": "X7zqQsJ1kifZ",
        "outputId": "c09fb7e2-a4d0-4069-9d1e-27f90de16e8e"
      },
      "execution_count": null,
      "outputs": [
        {
          "output_type": "execute_result",
          "data": {
            "text/plain": [
              "'a,b,c,d'"
            ],
            "application/vnd.google.colaboratory.intrinsic+json": {
              "type": "string"
            }
          },
          "metadata": {},
          "execution_count": 25
        }
      ]
    },
    {
      "cell_type": "markdown",
      "source": [
        "- 5. 소문자를 대문자로 바꾸기(upper)"
      ],
      "metadata": {
        "id": "sKsZ7-A1kmsR"
      }
    },
    {
      "cell_type": "code",
      "source": [
        "a = \"hi\"\n",
        "a.upper()"
      ],
      "metadata": {
        "colab": {
          "base_uri": "https://localhost:8080/",
          "height": 35
        },
        "id": "Z4mKFsPckqTY",
        "outputId": "13aff2ed-aff5-4962-ea87-5ad177c200ca"
      },
      "execution_count": null,
      "outputs": [
        {
          "output_type": "execute_result",
          "data": {
            "text/plain": [
              "'HI'"
            ],
            "application/vnd.google.colaboratory.intrinsic+json": {
              "type": "string"
            }
          },
          "metadata": {},
          "execution_count": 27
        }
      ]
    },
    {
      "cell_type": "markdown",
      "source": [
        "- 6. 대문자를 소문자로 바꾸기(lower)"
      ],
      "metadata": {
        "id": "W6pnoT3xktn0"
      }
    },
    {
      "cell_type": "code",
      "source": [
        "a = \"HI\"\n",
        "a.lower()"
      ],
      "metadata": {
        "colab": {
          "base_uri": "https://localhost:8080/",
          "height": 35
        },
        "id": "_9jm0SGikwId",
        "outputId": "b9f5a70f-e57b-48ab-9b8c-47b7b3da6f22"
      },
      "execution_count": null,
      "outputs": [
        {
          "output_type": "execute_result",
          "data": {
            "text/plain": [
              "'hi'"
            ],
            "application/vnd.google.colaboratory.intrinsic+json": {
              "type": "string"
            }
          },
          "metadata": {},
          "execution_count": 28
        }
      ]
    },
    {
      "cell_type": "markdown",
      "source": [
        "- 7. 왼쪽 공백 지우기(lstrip)"
      ],
      "metadata": {
        "id": "CvNKVZCQkzMw"
      }
    },
    {
      "cell_type": "code",
      "source": [
        "a = \" hi \"\n",
        "a.lstrip()"
      ],
      "metadata": {
        "colab": {
          "base_uri": "https://localhost:8080/",
          "height": 35
        },
        "id": "3WBu3Rg8k1Fh",
        "outputId": "6865788a-0eb1-4b1b-f421-df5dfaedecb5"
      },
      "execution_count": null,
      "outputs": [
        {
          "output_type": "execute_result",
          "data": {
            "text/plain": [
              "'hi '"
            ],
            "application/vnd.google.colaboratory.intrinsic+json": {
              "type": "string"
            }
          },
          "metadata": {},
          "execution_count": 29
        }
      ]
    },
    {
      "cell_type": "markdown",
      "source": [
        "- 8. 오른쪽 공백 지우기(rstrip)"
      ],
      "metadata": {
        "id": "rpYMspPxk3rI"
      }
    },
    {
      "cell_type": "code",
      "source": [
        "a= \" hi \"\n",
        "a.rstrip()"
      ],
      "metadata": {
        "colab": {
          "base_uri": "https://localhost:8080/",
          "height": 35
        },
        "id": "eyOjqiiFk7Hr",
        "outputId": "0d145d44-fb59-4ce6-cf07-842bbcbbc9d6"
      },
      "execution_count": null,
      "outputs": [
        {
          "output_type": "execute_result",
          "data": {
            "text/plain": [
              "' hi'"
            ],
            "application/vnd.google.colaboratory.intrinsic+json": {
              "type": "string"
            }
          },
          "metadata": {},
          "execution_count": 30
        }
      ]
    },
    {
      "cell_type": "markdown",
      "source": [
        "- 9. 양쪽 공백 지우기(strip)"
      ],
      "metadata": {
        "id": "rYa6IsD5k8k4"
      }
    },
    {
      "cell_type": "code",
      "source": [
        "a = \" hi \"\n",
        "a.strip()"
      ],
      "metadata": {
        "colab": {
          "base_uri": "https://localhost:8080/",
          "height": 35
        },
        "id": "kZCYU9O2lA5h",
        "outputId": "35215c89-456e-4bae-8626-b3d86a4c7d0b"
      },
      "execution_count": null,
      "outputs": [
        {
          "output_type": "execute_result",
          "data": {
            "text/plain": [
              "'hi'"
            ],
            "application/vnd.google.colaboratory.intrinsic+json": {
              "type": "string"
            }
          },
          "metadata": {},
          "execution_count": 31
        }
      ]
    },
    {
      "cell_type": "markdown",
      "source": [
        "- 10. 문자열 바꾸기(replace)"
      ],
      "metadata": {
        "id": "zbAAYwghlI0Y"
      }
    },
    {
      "cell_type": "code",
      "source": [
        "a = \"Life is too short\"\n",
        "a.replace(\"Life\", \"Your leg\")"
      ],
      "metadata": {
        "colab": {
          "base_uri": "https://localhost:8080/",
          "height": 35
        },
        "id": "cwfV1_cXlLL6",
        "outputId": "50bc3c96-2b12-4945-9dbf-167cbecfe979"
      },
      "execution_count": null,
      "outputs": [
        {
          "output_type": "execute_result",
          "data": {
            "text/plain": [
              "'Your leg is too short'"
            ],
            "application/vnd.google.colaboratory.intrinsic+json": {
              "type": "string"
            }
          },
          "metadata": {},
          "execution_count": 32
        }
      ]
    },
    {
      "cell_type": "markdown",
      "source": [
        "- 11. 문자열 나누기(split)"
      ],
      "metadata": {
        "id": "-Rwnr5XelOY4"
      }
    },
    {
      "cell_type": "code",
      "source": [
        "a = \"Life is too short\"\n",
        "a.split()"
      ],
      "metadata": {
        "colab": {
          "base_uri": "https://localhost:8080/"
        },
        "id": "UC1KFSPClQVo",
        "outputId": "823e74ce-1594-4446-e73f-fbbfb9219a0d"
      },
      "execution_count": null,
      "outputs": [
        {
          "output_type": "execute_result",
          "data": {
            "text/plain": [
              "['Life', 'is', 'too', 'short']"
            ]
          },
          "metadata": {},
          "execution_count": 33
        }
      ]
    },
    {
      "cell_type": "code",
      "source": [
        "b = \"a:b:c:d\"\n",
        "b.split(':')"
      ],
      "metadata": {
        "colab": {
          "base_uri": "https://localhost:8080/"
        },
        "id": "Vcb8cqFclTr5",
        "outputId": "a12c2aa4-0bac-4369-eee3-bfcabf9400bc"
      },
      "execution_count": null,
      "outputs": [
        {
          "output_type": "execute_result",
          "data": {
            "text/plain": [
              "['a', 'b', 'c', 'd']"
            ]
          },
          "metadata": {},
          "execution_count": 34
        }
      ]
    },
    {
      "cell_type": "markdown",
      "source": [
        "## 리스트\n",
        "- 자바의 배열"
      ],
      "metadata": {
        "id": "U1677rLfFtLA"
      }
    },
    {
      "cell_type": "code",
      "source": [
        "a = []\n",
        "a_func = list() # list()함수로도 빈 리스트 생성 가능\n",
        "b = [1]\n",
        "c = ['Apple']\n",
        "d = [1, 2, ['apple']]\n",
        "\n",
        "print(a)\n",
        "print(b)\n",
        "print(c)\n",
        "print(d)\n",
        "print(a_func)"
      ],
      "metadata": {
        "colab": {
          "base_uri": "https://localhost:8080/"
        },
        "id": "R2idoND_F8O-",
        "outputId": "1fe1cfc2-cee5-45ce-a6b0-be5637925ef8"
      },
      "execution_count": null,
      "outputs": [
        {
          "output_type": "stream",
          "name": "stdout",
          "text": [
            "[]\n",
            "[1]\n",
            "['Apple']\n",
            "[1, 2, ['apple']]\n",
            "[]\n"
          ]
        }
      ]
    },
    {
      "cell_type": "code",
      "source": [
        "a = [5, 3, 1, 4, 6, 7]\n",
        "print(a)"
      ],
      "metadata": {
        "colab": {
          "base_uri": "https://localhost:8080/"
        },
        "id": "B0CcyJriHORq",
        "outputId": "c731d5e6-082b-4e57-b7d1-e4808e3af704"
      },
      "execution_count": null,
      "outputs": [
        {
          "output_type": "stream",
          "name": "stdout",
          "text": [
            "[5, 3, 1, 4, 6, 7]\n"
          ]
        }
      ]
    },
    {
      "cell_type": "code",
      "source": [
        "print(a[0:3])\n",
        "print(a[1])"
      ],
      "metadata": {
        "colab": {
          "base_uri": "https://localhost:8080/"
        },
        "id": "_qJ-XzzTHXdQ",
        "outputId": "c4f3e066-32f7-4669-d596-6904a787a677"
      },
      "execution_count": null,
      "outputs": [
        {
          "output_type": "stream",
          "name": "stdout",
          "text": [
            "[5, 3, 1]\n",
            "3\n"
          ]
        }
      ]
    },
    {
      "cell_type": "markdown",
      "source": [
        "### 중첩리스트(Nested List)\n",
        "- 리스트 내의 또 다른 리스트"
      ],
      "metadata": {
        "id": "a7dEzZNtHoJX"
      }
    },
    {
      "cell_type": "code",
      "source": [
        "a = [['apple', 'banana', 'cherry'], 1]\n",
        "a"
      ],
      "metadata": {
        "colab": {
          "base_uri": "https://localhost:8080/"
        },
        "id": "gOaWuI4uHuJR",
        "outputId": "795e836f-2f31-467f-ba32-e29fe487828e"
      },
      "execution_count": null,
      "outputs": [
        {
          "output_type": "execute_result",
          "data": {
            "text/plain": [
              "[['apple', 'banana', 'cherry'], 1]"
            ]
          },
          "metadata": {},
          "execution_count": 47
        }
      ]
    },
    {
      "cell_type": "code",
      "source": [
        "# cherry 글자에서 알파벳 e만 가져오기\n",
        "a[0][2][2]"
      ],
      "metadata": {
        "colab": {
          "base_uri": "https://localhost:8080/",
          "height": 35
        },
        "id": "dqlwkXoqH4OH",
        "outputId": "866af091-c125-44f2-82b2-4d3041baf725"
      },
      "execution_count": null,
      "outputs": [
        {
          "output_type": "execute_result",
          "data": {
            "text/plain": [
              "'e'"
            ],
            "application/vnd.google.colaboratory.intrinsic+json": {
              "type": "string"
            }
          },
          "metadata": {},
          "execution_count": 62
        }
      ]
    },
    {
      "cell_type": "code",
      "source": [
        "# cherry 글자에서 알파벳 e만 가져오기\n",
        "temp = a[0]\n",
        "temp2 = temp[2]\n",
        "temp2[2]"
      ],
      "metadata": {
        "colab": {
          "base_uri": "https://localhost:8080/",
          "height": 35
        },
        "id": "1x3LpFddJXp8",
        "outputId": "54c5d71a-e6b2-49a6-99e4-db54f3efb02c"
      },
      "execution_count": null,
      "outputs": [
        {
          "output_type": "execute_result",
          "data": {
            "text/plain": [
              "'e'"
            ],
            "application/vnd.google.colaboratory.intrinsic+json": {
              "type": "string"
            }
          },
          "metadata": {},
          "execution_count": 61
        }
      ]
    },
    {
      "cell_type": "markdown",
      "source": [
        "### 리스트 연결 연산자\n",
        "- 덧셈, 곱셈"
      ],
      "metadata": {
        "id": "wuve6phlnWYF"
      }
    },
    {
      "cell_type": "code",
      "source": [
        "a = ['alice', 'bob', 'cat']\n",
        "b = ['apple', 'banana', 'cherry']\n",
        "\n",
        "c = a + b\n",
        "print(c)"
      ],
      "metadata": {
        "colab": {
          "base_uri": "https://localhost:8080/"
        },
        "id": "jhdoDU3Ln1D0",
        "outputId": "11528b91-407c-4d6c-fe46-3da64017f475"
      },
      "execution_count": null,
      "outputs": [
        {
          "output_type": "stream",
          "name": "stdout",
          "text": [
            "['alice', 'bob', 'cat', 'apple', 'banana', 'cherry']\n"
          ]
        }
      ]
    },
    {
      "cell_type": "code",
      "source": [
        "a = ['a', 'b', 'c']\n",
        "b = a * 3\n",
        "print(b)"
      ],
      "metadata": {
        "colab": {
          "base_uri": "https://localhost:8080/"
        },
        "id": "EKEJrK8ToQAR",
        "outputId": "21b7e9cd-18c3-402c-a53e-a900219ce011"
      },
      "execution_count": null,
      "outputs": [
        {
          "output_type": "stream",
          "name": "stdout",
          "text": [
            "['a', 'b', 'c', 'a', 'b', 'c', 'a', 'b', 'c']\n"
          ]
        }
      ]
    },
    {
      "cell_type": "code",
      "source": [
        "c = a * 0\n",
        "print(c)"
      ],
      "metadata": {
        "colab": {
          "base_uri": "https://localhost:8080/"
        },
        "id": "7kjYd712oXzF",
        "outputId": "52e5426e-2082-48e7-b1cd-63fb52c7038d"
      },
      "execution_count": null,
      "outputs": [
        {
          "output_type": "stream",
          "name": "stdout",
          "text": [
            "[]\n"
          ]
        }
      ]
    },
    {
      "cell_type": "markdown",
      "source": [
        "### 리스트 값 수정\n"
      ],
      "metadata": {
        "id": "Bhj01gCwpI-g"
      }
    },
    {
      "cell_type": "code",
      "source": [
        "a = [1,1,1]\n",
        "a[1] = \"b\"\n",
        "\n",
        "print(a)\n"
      ],
      "metadata": {
        "colab": {
          "base_uri": "https://localhost:8080/"
        },
        "id": "ZH9Nq7AOpVFb",
        "outputId": "11017685-dc53-41b2-b820-2fe220a09dd2"
      },
      "execution_count": null,
      "outputs": [
        {
          "output_type": "stream",
          "name": "stdout",
          "text": [
            "[1, 'b', 1]\n"
          ]
        }
      ]
    },
    {
      "cell_type": "markdown",
      "source": [
        "### 리스트 값 추가하기\n",
        "- append 메소드 사용(기억)\n",
        "- 반복문 사용 시 매우 자주 활용됨"
      ],
      "metadata": {
        "id": "q9MUvUlbptBz"
      }
    },
    {
      "cell_type": "code",
      "source": [
        "a = [100, 200, 300]\n",
        "b = [400, 500, 600]\n",
        "a.append(b)\n",
        "\n",
        "\n",
        "print(a)"
      ],
      "metadata": {
        "colab": {
          "base_uri": "https://localhost:8080/"
        },
        "id": "zR5cksInp0PC",
        "outputId": "2d796e31-b350-441f-d399-cc919a4054f7"
      },
      "execution_count": null,
      "outputs": [
        {
          "output_type": "stream",
          "name": "stdout",
          "text": [
            "[100, 200, 300, [400, 500, 600]]\n"
          ]
        }
      ]
    },
    {
      "cell_type": "markdown",
      "source": [
        "### extend( ) 함수 사용\n",
        "- 여러 개의 요소를 추가하고 싶을 때 사용"
      ],
      "metadata": {
        "id": "lfzy62jGq0AI"
      }
    },
    {
      "cell_type": "code",
      "source": [
        "a = [100, 200, 300]\n",
        "b = [400, 500, 600]\n",
        "\n",
        "a.extend(b)\n",
        "\n",
        "print(a)"
      ],
      "metadata": {
        "colab": {
          "base_uri": "https://localhost:8080/"
        },
        "id": "D1Q6xn_Bq5-F",
        "outputId": "f78fb864-0cd8-44a5-be35-8b816b673291"
      },
      "execution_count": null,
      "outputs": [
        {
          "output_type": "stream",
          "name": "stdout",
          "text": [
            "[100, 200, 300, 400, 500, 600]\n"
          ]
        }
      ]
    },
    {
      "cell_type": "markdown",
      "source": [
        "### insert( )\n",
        "- 특정한 위치에 값을 추가"
      ],
      "metadata": {
        "id": "YDZyFdvgrPJP"
      }
    },
    {
      "cell_type": "code",
      "source": [
        "a = [1, 1, 1, 1, 1, 1, 1]\n",
        "a.insert(2, 100)\n",
        "\n",
        "print(a)"
      ],
      "metadata": {
        "colab": {
          "base_uri": "https://localhost:8080/"
        },
        "id": "curMExrGrT8F",
        "outputId": "63acdc42-f983-40e2-d087-93a201ced3a8"
      },
      "execution_count": null,
      "outputs": [
        {
          "output_type": "stream",
          "name": "stdout",
          "text": [
            "[1, 1, 100, 1, 1, 1, 1, 1]\n"
          ]
        }
      ]
    },
    {
      "cell_type": "markdown",
      "source": [
        "### 리스트의 값을 삭제\n",
        "- remove() 함수"
      ],
      "metadata": {
        "id": "xhJuh5GVsdf_"
      }
    },
    {
      "cell_type": "code",
      "source": [
        "a = [5, 4, 3, 2, 1]\n",
        "a.remove(4) # 숫자는 인덱스 번호가 아님\n",
        "a"
      ],
      "metadata": {
        "colab": {
          "base_uri": "https://localhost:8080/"
        },
        "id": "qVtp3z9ishv7",
        "outputId": "985b2624-b28b-41b9-e57d-a009301ca4d5"
      },
      "execution_count": null,
      "outputs": [
        {
          "output_type": "execute_result",
          "data": {
            "text/plain": [
              "[5, 3, 2, 1]"
            ]
          },
          "metadata": {},
          "execution_count": 12
        }
      ]
    },
    {
      "cell_type": "markdown",
      "source": [
        "- pop 함수 "
      ],
      "metadata": {
        "id": "-L1SbtnLs7RJ"
      }
    },
    {
      "cell_type": "code",
      "source": [
        "a = [5, 4, 3, 2, 1]\n",
        "a2 = a.pop(4) # a2 에 제거한 값이 저장됨\n",
        "print(a2, a)"
      ],
      "metadata": {
        "colab": {
          "base_uri": "https://localhost:8080/"
        },
        "id": "Cp46SddSs-EJ",
        "outputId": "d353b4b6-3f65-4bc8-e30e-32d1c56555ff"
      },
      "execution_count": null,
      "outputs": [
        {
          "output_type": "stream",
          "name": "stdout",
          "text": [
            "1 [5, 4, 3, 2]\n"
          ]
        }
      ]
    },
    {
      "cell_type": "markdown",
      "source": [
        "## 그 외 유용한 메소드\n",
        "- clear 함수"
      ],
      "metadata": {
        "id": "OtAr2kbPvOd3"
      }
    },
    {
      "cell_type": "code",
      "source": [
        "a = [0,1,2,3]\n",
        "print(a)\n",
        "\n",
        "a.clear()\n",
        "print(a)"
      ],
      "metadata": {
        "colab": {
          "base_uri": "https://localhost:8080/"
        },
        "id": "9kRZv1l3vd4o",
        "outputId": "62ad2ada-0eab-4bbd-cfa7-f405063598d8"
      },
      "execution_count": null,
      "outputs": [
        {
          "output_type": "stream",
          "name": "stdout",
          "text": [
            "[0, 1, 2, 3]\n",
            "[]\n"
          ]
        }
      ]
    },
    {
      "cell_type": "code",
      "source": [
        "a = [1, 4, 5, 2, 3]\n",
        "a.sort()\n",
        "print(a)"
      ],
      "metadata": {
        "colab": {
          "base_uri": "https://localhost:8080/"
        },
        "id": "4vOvQISFvu0u",
        "outputId": "931a570c-e5ae-483e-cf1c-d0e1d81b8892"
      },
      "execution_count": null,
      "outputs": [
        {
          "output_type": "stream",
          "name": "stdout",
          "text": [
            "[1, 2, 3, 4, 5]\n"
          ]
        }
      ]
    },
    {
      "cell_type": "code",
      "source": [
        "# a 를 내림차순으로 정렬하기\n",
        "# a.sort() a.sort(reverse=False) : 오름차순 정렬\n",
        "# a.sort(reverse=True) : 내림차순 정렬\n",
        "a.sort(reverse=True)\n",
        "a"
      ],
      "metadata": {
        "colab": {
          "base_uri": "https://localhost:8080/"
        },
        "id": "fKnvx7nbvz_I",
        "outputId": "f69c0424-2812-4b5c-9d3d-b8f086138a2f"
      },
      "execution_count": null,
      "outputs": [
        {
          "output_type": "execute_result",
          "data": {
            "text/plain": [
              "[5, 4, 3, 2, 1]"
            ]
          },
          "metadata": {},
          "execution_count": 22
        }
      ]
    },
    {
      "cell_type": "markdown",
      "source": [
        "## 튜플\n"
      ],
      "metadata": {
        "id": "RGjHqFBF05Se"
      }
    },
    {
      "cell_type": "code",
      "source": [
        "tuple01 = (0)\n",
        "tuple02 = (0, )\n",
        "tuple03 = 0, 1, 2\n",
        "\n",
        "print(tuple01)\n",
        "print(tuple02)\n",
        "print(tuple03)\n",
        "\n",
        "print(type(tuple01))\n",
        "print(type(tuple02))\n",
        "print(type(tuple03))"
      ],
      "metadata": {
        "colab": {
          "base_uri": "https://localhost:8080/"
        },
        "id": "S7jghtPU1Krj",
        "outputId": "1a95c5b1-1f92-471a-d7c6-1d37716692eb"
      },
      "execution_count": null,
      "outputs": [
        {
          "output_type": "stream",
          "name": "stdout",
          "text": [
            "0\n",
            "(0,)\n",
            "(0, 1, 2)\n",
            "<class 'int'>\n",
            "<class 'tuple'>\n",
            "<class 'tuple'>\n"
          ]
        }
      ]
    },
    {
      "cell_type": "code",
      "source": [
        "# packing\n",
        "my_tuple = 3, 2, \"A\"\n",
        "print(my_tuple)\n",
        "\n",
        "# Unpacking\n",
        "a, b, c = my_tuple\n",
        "\n",
        "print(a)\n",
        "print(b)\n",
        "print(c)"
      ],
      "metadata": {
        "colab": {
          "base_uri": "https://localhost:8080/"
        },
        "id": "48ub9zNL12Vh",
        "outputId": "b3640e25-6f2c-4eeb-eb64-dd96a4afcf3a"
      },
      "execution_count": null,
      "outputs": [
        {
          "output_type": "stream",
          "name": "stdout",
          "text": [
            "(3, 2, 'A')\n",
            "3\n",
            "2\n",
            "A\n"
          ]
        }
      ]
    },
    {
      "cell_type": "markdown",
      "source": [
        "### 수정, 삭제 불가능"
      ],
      "metadata": {
        "id": "D2gPB0as2UGX"
      }
    },
    {
      "cell_type": "code",
      "source": [
        "# List\n",
        "a = [0, 1, 2, 3, 4, 5, \"a\"]\n",
        "del a[6]\n",
        "a"
      ],
      "metadata": {
        "colab": {
          "base_uri": "https://localhost:8080/"
        },
        "id": "5kv1Y4cY2f9H",
        "outputId": "00eb6418-f146-4e8b-9775-f79b2218126f"
      },
      "execution_count": null,
      "outputs": [
        {
          "output_type": "execute_result",
          "data": {
            "text/plain": [
              "[0, 1, 2, 3, 4, 5]"
            ]
          },
          "metadata": {},
          "execution_count": 28
        }
      ]
    },
    {
      "cell_type": "code",
      "source": [
        "a = (0, 1, 2, 3, 4, 5, \"a\")\n",
        "print(a[6])\n",
        "# del a[6]"
      ],
      "metadata": {
        "colab": {
          "base_uri": "https://localhost:8080/"
        },
        "id": "sNY-thF02Wxs",
        "outputId": "226ae815-d3d3-42f5-8636-e07d045e573f"
      },
      "execution_count": null,
      "outputs": [
        {
          "output_type": "stream",
          "name": "stdout",
          "text": [
            "a\n"
          ]
        }
      ]
    },
    {
      "cell_type": "code",
      "source": [
        "# Tuple\n",
        "a = (0, 1, 2, 3, 4, 5, \"a\")\n",
        "#print(a[6])\n",
        "del a[6]"
      ],
      "metadata": {
        "colab": {
          "base_uri": "https://localhost:8080/",
          "height": 211
        },
        "id": "0MVC_dNq2zIf",
        "outputId": "b2e2f443-67b2-4ac2-b1f9-356f3ee3c836"
      },
      "execution_count": null,
      "outputs": [
        {
          "output_type": "error",
          "ename": "TypeError",
          "evalue": "ignored",
          "traceback": [
            "\u001b[0;31m---------------------------------------------------------------------------\u001b[0m",
            "\u001b[0;31mTypeError\u001b[0m                                 Traceback (most recent call last)",
            "\u001b[0;32m<ipython-input-30-e87ca42b66b8>\u001b[0m in \u001b[0;36m<module>\u001b[0;34m\u001b[0m\n\u001b[1;32m      1\u001b[0m \u001b[0ma\u001b[0m \u001b[0;34m=\u001b[0m \u001b[0;34m(\u001b[0m\u001b[0;36m0\u001b[0m\u001b[0;34m,\u001b[0m \u001b[0;36m1\u001b[0m\u001b[0;34m,\u001b[0m \u001b[0;36m2\u001b[0m\u001b[0;34m,\u001b[0m \u001b[0;36m3\u001b[0m\u001b[0;34m,\u001b[0m \u001b[0;36m4\u001b[0m\u001b[0;34m,\u001b[0m \u001b[0;36m5\u001b[0m\u001b[0;34m,\u001b[0m \u001b[0;34m\"a\"\u001b[0m\u001b[0;34m)\u001b[0m\u001b[0;34m\u001b[0m\u001b[0;34m\u001b[0m\u001b[0m\n\u001b[1;32m      2\u001b[0m \u001b[0;31m#print(a[6])\u001b[0m\u001b[0;34m\u001b[0m\u001b[0;34m\u001b[0m\u001b[0m\n\u001b[0;32m----> 3\u001b[0;31m \u001b[0;32mdel\u001b[0m \u001b[0ma\u001b[0m\u001b[0;34m[\u001b[0m\u001b[0;36m6\u001b[0m\u001b[0;34m]\u001b[0m\u001b[0;34m\u001b[0m\u001b[0;34m\u001b[0m\u001b[0m\n\u001b[0m",
            "\u001b[0;31mTypeError\u001b[0m: 'tuple' object doesn't support item deletion"
          ]
        }
      ]
    },
    {
      "cell_type": "markdown",
      "source": [
        "- 수정"
      ],
      "metadata": {
        "id": "vrq91Kj83eTf"
      }
    },
    {
      "cell_type": "code",
      "source": [
        "# List\n",
        "a = [1, 1, 1, 'a']\n",
        "a[3] = 1\n",
        "a"
      ],
      "metadata": {
        "colab": {
          "base_uri": "https://localhost:8080/"
        },
        "id": "VJmXkz5G3fcB",
        "outputId": "cea20716-eaf2-4677-ebba-3dde76b37a3e"
      },
      "execution_count": null,
      "outputs": [
        {
          "output_type": "execute_result",
          "data": {
            "text/plain": [
              "[1, 1, 1, 1]"
            ]
          },
          "metadata": {},
          "execution_count": 31
        }
      ]
    },
    {
      "cell_type": "code",
      "source": [
        "#Tuple\n",
        "a = (1, 1, 1, 'a')\n",
        "a[3] = 1\n",
        "a"
      ],
      "metadata": {
        "colab": {
          "base_uri": "https://localhost:8080/",
          "height": 211
        },
        "id": "Wa5RKBkU3ku_",
        "outputId": "c1d5dbe9-7664-49ab-ce3e-c3a3e17f0fa0"
      },
      "execution_count": null,
      "outputs": [
        {
          "output_type": "error",
          "ename": "TypeError",
          "evalue": "ignored",
          "traceback": [
            "\u001b[0;31m---------------------------------------------------------------------------\u001b[0m",
            "\u001b[0;31mTypeError\u001b[0m                                 Traceback (most recent call last)",
            "\u001b[0;32m<ipython-input-32-25aa4c4c82a9>\u001b[0m in \u001b[0;36m<module>\u001b[0;34m\u001b[0m\n\u001b[1;32m      1\u001b[0m \u001b[0ma\u001b[0m \u001b[0;34m=\u001b[0m \u001b[0;34m(\u001b[0m\u001b[0;36m1\u001b[0m\u001b[0;34m,\u001b[0m \u001b[0;36m1\u001b[0m\u001b[0;34m,\u001b[0m \u001b[0;36m1\u001b[0m\u001b[0;34m,\u001b[0m \u001b[0;34m'a'\u001b[0m\u001b[0;34m)\u001b[0m\u001b[0;34m\u001b[0m\u001b[0;34m\u001b[0m\u001b[0m\n\u001b[0;32m----> 2\u001b[0;31m \u001b[0ma\u001b[0m\u001b[0;34m[\u001b[0m\u001b[0;36m3\u001b[0m\u001b[0;34m]\u001b[0m \u001b[0;34m=\u001b[0m \u001b[0;36m1\u001b[0m\u001b[0;34m\u001b[0m\u001b[0;34m\u001b[0m\u001b[0m\n\u001b[0m\u001b[1;32m      3\u001b[0m \u001b[0ma\u001b[0m\u001b[0;34m\u001b[0m\u001b[0;34m\u001b[0m\u001b[0m\n",
            "\u001b[0;31mTypeError\u001b[0m: 'tuple' object does not support item assignment"
          ]
        }
      ]
    },
    {
      "cell_type": "markdown",
      "source": [
        "### 슬라이싱, 인덱싱\n",
        "- 각자 실습"
      ],
      "metadata": {
        "id": "_KfmnWTy34U3"
      }
    },
    {
      "cell_type": "markdown",
      "source": [
        "### 더하기 및 곱셈 연산자 사용"
      ],
      "metadata": {
        "id": "xJ6h7iXo4K4n"
      }
    },
    {
      "cell_type": "code",
      "source": [
        "t1 = (0, 1, 2, 3, 4)\n",
        "t2 = ('a', 'b', 'c')\n",
        "\n",
        "print(t1 + t2)\n",
        "print(t1 * 3)\n",
        "print(t1 * 0)"
      ],
      "metadata": {
        "colab": {
          "base_uri": "https://localhost:8080/"
        },
        "id": "Xe11YfUz4KMP",
        "outputId": "807a2696-cc95-49d8-c6eb-24145b99a997"
      },
      "execution_count": null,
      "outputs": [
        {
          "output_type": "stream",
          "name": "stdout",
          "text": [
            "(0, 1, 2, 3, 4, 'a', 'b', 'c')\n",
            "(0, 1, 2, 3, 4, 0, 1, 2, 3, 4, 0, 1, 2, 3, 4)\n",
            "()\n"
          ]
        }
      ]
    },
    {
      "cell_type": "markdown",
      "source": [
        "## Dictionary\n"
      ],
      "metadata": {
        "id": "wjn6l4-g4hpm"
      }
    },
    {
      "cell_type": "code",
      "source": [
        "temp_dict = {\n",
        "    \"a\" : [0, 1, 2, 3],\n",
        "    \"b\" : \"휴먼\",\n",
        "    \"c\" : 100\n",
        "}\n",
        "\n",
        "temp_dict"
      ],
      "metadata": {
        "colab": {
          "base_uri": "https://localhost:8080/"
        },
        "id": "H6dnB4AR5RCv",
        "outputId": "3534e2d1-8d40-46d9-919d-49eaf1e9c274"
      },
      "execution_count": null,
      "outputs": [
        {
          "output_type": "execute_result",
          "data": {
            "text/plain": [
              "{'a': [0, 1, 2, 3], 'b': '휴먼', 'c': 100}"
            ]
          },
          "metadata": {},
          "execution_count": 34
        }
      ]
    },
    {
      "cell_type": "code",
      "source": [
        "temp_dict['c']"
      ],
      "metadata": {
        "colab": {
          "base_uri": "https://localhost:8080/"
        },
        "id": "4AiKVpNR5yi7",
        "outputId": "439ec950-62e7-4a47-9792-72fdcff5a268"
      },
      "execution_count": null,
      "outputs": [
        {
          "output_type": "execute_result",
          "data": {
            "text/plain": [
              "100"
            ]
          },
          "metadata": {},
          "execution_count": 37
        }
      ]
    },
    {
      "cell_type": "code",
      "source": [
        "temp_dict['d']\n",
        "# KeyError"
      ],
      "metadata": {
        "colab": {
          "base_uri": "https://localhost:8080/",
          "height": 174
        },
        "id": "o_H_azxf6DUI",
        "outputId": "a731471e-461c-4005-8a50-ae20c7fffc9a"
      },
      "execution_count": null,
      "outputs": [
        {
          "output_type": "error",
          "ename": "KeyError",
          "evalue": "ignored",
          "traceback": [
            "\u001b[0;31m---------------------------------------------------------------------------\u001b[0m",
            "\u001b[0;31mKeyError\u001b[0m                                  Traceback (most recent call last)",
            "\u001b[0;32m<ipython-input-38-bb93225c332d>\u001b[0m in \u001b[0;36m<module>\u001b[0;34m\u001b[0m\n\u001b[0;32m----> 1\u001b[0;31m \u001b[0mtemp_dict\u001b[0m\u001b[0;34m[\u001b[0m\u001b[0;34m'd'\u001b[0m\u001b[0;34m]\u001b[0m\u001b[0;34m\u001b[0m\u001b[0;34m\u001b[0m\u001b[0m\n\u001b[0m",
            "\u001b[0;31mKeyError\u001b[0m: 'd'"
          ]
        }
      ]
    },
    {
      "cell_type": "code",
      "source": [
        "temp_dict.keys()\n",
        "# Key 만 출력"
      ],
      "metadata": {
        "colab": {
          "base_uri": "https://localhost:8080/"
        },
        "id": "6qXXlx3b7MPJ",
        "outputId": "4f207074-98ea-4285-8dbd-0d87e27991ea"
      },
      "execution_count": null,
      "outputs": [
        {
          "output_type": "execute_result",
          "data": {
            "text/plain": [
              "dict_keys(['a', 'b', 'c'])"
            ]
          },
          "metadata": {},
          "execution_count": 39
        }
      ]
    },
    {
      "cell_type": "code",
      "source": [
        "print(type(temp_dict.keys()))\n",
        "\n",
        "# 리스트로 변환\n",
        "result = list(temp_dict.keys())\n",
        "print(result)\n",
        "print(type(result))"
      ],
      "metadata": {
        "colab": {
          "base_uri": "https://localhost:8080/"
        },
        "id": "4Prbv2047WcJ",
        "outputId": "fa652d47-8b49-400d-8b8c-aa765d42268d"
      },
      "execution_count": null,
      "outputs": [
        {
          "output_type": "stream",
          "name": "stdout",
          "text": [
            "<class 'dict_keys'>\n",
            "['a', 'b', 'c']\n",
            "<class 'list'>\n"
          ]
        }
      ]
    },
    {
      "cell_type": "code",
      "source": [
        "result = temp_dict.values()\n",
        "print(type(result))\n",
        "print(result) # Value 출력"
      ],
      "metadata": {
        "colab": {
          "base_uri": "https://localhost:8080/"
        },
        "id": "-LpPlrPO8bo1",
        "outputId": "d569dcf5-7f4a-4eba-8a33-03e27daa8645"
      },
      "execution_count": null,
      "outputs": [
        {
          "output_type": "stream",
          "name": "stdout",
          "text": [
            "<class 'dict_values'>\n",
            "dict_values([[0, 1, 2, 3], '휴먼', 100])\n"
          ]
        }
      ]
    },
    {
      "cell_type": "code",
      "source": [
        "a = {\n",
        "    'name' : '휴먼',\n",
        "    'age' : 50,\n",
        "    'job' : '학생'\n",
        "}\n",
        "result = list(a.items())\n",
        "result\n"
      ],
      "metadata": {
        "colab": {
          "base_uri": "https://localhost:8080/"
        },
        "id": "elW5p-dA8su4",
        "outputId": "07088c7a-132a-4880-f9a9-b45819cb8159"
      },
      "execution_count": null,
      "outputs": [
        {
          "output_type": "execute_result",
          "data": {
            "text/plain": [
              "[('name', '휴먼'), ('age', 50), ('job', '학생')]"
            ]
          },
          "metadata": {},
          "execution_count": 53
        }
      ]
    },
    {
      "cell_type": "markdown",
      "source": [
        "## if 문"
      ],
      "metadata": {
        "id": "lLXEEFKTDVAb"
      }
    },
    {
      "cell_type": "code",
      "source": [
        "a = 6\n",
        "\n",
        "if a > 5:\n",
        "  print(\"a가 5보다 크다\")\n",
        "elif a > 0:\n",
        "  print(\"a가 0보다 크다\")\n",
        "else:\n",
        "  print(\"음수\")"
      ],
      "metadata": {
        "colab": {
          "base_uri": "https://localhost:8080/"
        },
        "id": "O5SUuULGDAzG",
        "outputId": "449ebde8-70a3-483e-e100-e0f630d649b3"
      },
      "execution_count": null,
      "outputs": [
        {
          "output_type": "stream",
          "name": "stdout",
          "text": [
            "a가 5보다 크다\n"
          ]
        }
      ]
    },
    {
      "cell_type": "code",
      "source": [
        "# input 함수\n",
        "# 90점 이상 A등급, 80점 이상 B등급 나머지 C등급\n",
        "score = int(input(\"점수를 입력하세요 : \"))\n",
        "\n",
        "if score >= 90:\n",
        "  print(\"A 등급\")\n",
        "elif score >= 80:\n",
        "  print(\"B 등급\")\n",
        "else:\n",
        "  print(\"C 등급\")"
      ],
      "metadata": {
        "colab": {
          "base_uri": "https://localhost:8080/"
        },
        "id": "PwKxaHfND6aj",
        "outputId": "f288903d-90ba-4aab-b805-db8dd6df502b"
      },
      "execution_count": null,
      "outputs": [
        {
          "output_type": "stream",
          "name": "stdout",
          "text": [
            "점수를 입력하세요 : 30\n",
            "C 등급\n"
          ]
        }
      ]
    },
    {
      "cell_type": "markdown",
      "source": [
        "## 반복문\n",
        "- 반복문은 왜 쓰는가?\n",
        "> 시간 아끼려고"
      ],
      "metadata": {
        "id": "mLFxqkx5G-TP"
      }
    },
    {
      "cell_type": "code",
      "source": [
        "# 과제 Hello World 3 번 출력\n",
        "for i in range(3):\n",
        "  # range 자리에는 다향한 개체들이 온다\n",
        "  print(\"Hello World\")"
      ],
      "metadata": {
        "colab": {
          "base_uri": "https://localhost:8080/"
        },
        "id": "JuZYgcF6Hj1M",
        "outputId": "6861e7e5-7f3e-4fc1-c6a3-f6b78529a794"
      },
      "execution_count": null,
      "outputs": [
        {
          "output_type": "stream",
          "name": "stdout",
          "text": [
            "Hello World\n",
            "Hello World\n",
            "Hello World\n"
          ]
        }
      ]
    },
    {
      "cell_type": "code",
      "source": [
        "letters = ['A', 'B', 'C']\n",
        "for idx, value in enumerate(letters):\n",
        "  print(idx, value)"
      ],
      "metadata": {
        "colab": {
          "base_uri": "https://localhost:8080/"
        },
        "id": "BM7ZVhrNJJ-a",
        "outputId": "c89c60ad-c974-472f-b380-50cb949325cf"
      },
      "execution_count": null,
      "outputs": [
        {
          "output_type": "stream",
          "name": "stdout",
          "text": [
            "0 A\n",
            "1 B\n",
            "2 C\n"
          ]
        }
      ]
    },
    {
      "cell_type": "code",
      "source": [
        "fruits = ['apple', 'kiwi', 'mango']\n",
        "# 리스트의 값 중에서 a가 들어간 단어만 출력\n",
        "# list comprehesion\n",
        "newlists = [fruit for fruit in fruits if \"a\" in fruit]\n",
        "print(newlists)"
      ],
      "metadata": {
        "colab": {
          "base_uri": "https://localhost:8080/"
        },
        "id": "X7_0Kw_5JwnB",
        "outputId": "d236eb0c-c4ad-4b7d-a249-b879287a050d"
      },
      "execution_count": null,
      "outputs": [
        {
          "output_type": "stream",
          "name": "stdout",
          "text": [
            "['apple', 'mango']\n"
          ]
        }
      ]
    },
    {
      "cell_type": "code",
      "source": [
        "fruits = ['apple', 'kiwi', 'mango']\n",
        "\n",
        "newlist = []\n",
        "for fruit in fruits:\n",
        "  #1단계\n",
        "  print(fruit)\n",
        "\n",
        "  # 2단계 : 조건문을 작성할 수 있다.\n",
        "  # True False 식을 도출\n",
        "  if \"a\" in fruit:\n",
        "    newlist.append(fruit)\n",
        "\n",
        "print(newlist)"
      ],
      "metadata": {
        "colab": {
          "base_uri": "https://localhost:8080/"
        },
        "id": "-yqpMsM3Ka_2",
        "outputId": "37a86e99-e591-457d-d297-8f03719d947b"
      },
      "execution_count": null,
      "outputs": [
        {
          "output_type": "stream",
          "name": "stdout",
          "text": [
            "apple\n",
            "kiwi\n",
            "mango\n",
            "['apple', 'mango']\n"
          ]
        }
      ]
    },
    {
      "cell_type": "markdown",
      "source": [
        "# 파이썬 라이브러리"
      ],
      "metadata": {
        "id": "LWNpGXC2zVdv"
      }
    },
    {
      "cell_type": "markdown",
      "source": [
        "## NumPy"
      ],
      "metadata": {
        "id": "FeF5zHqMzhi0"
      }
    },
    {
      "cell_type": "markdown",
      "source": [
        "### NumPy 라이브러리 불러오기\n"
      ],
      "metadata": {
        "id": "3fi7ojFDD59_"
      }
    },
    {
      "cell_type": "code",
      "source": [
        "import numpy as np # numpy 라이브러리를 약어 np로 불러오기\n",
        "print(np.__version__)"
      ],
      "metadata": {
        "colab": {
          "base_uri": "https://localhost:8080/"
        },
        "id": "XngeBrST4bxq",
        "outputId": "bcedfe67-e336-412d-f303-bf8095e9ff3b"
      },
      "execution_count": null,
      "outputs": [
        {
          "output_type": "stream",
          "name": "stdout",
          "text": [
            "1.22.4\n"
          ]
        }
      ]
    },
    {
      "cell_type": "markdown",
      "source": [
        "### 리스트를 배열로 변환"
      ],
      "metadata": {
        "id": "JRweqmCd467y"
      }
    },
    {
      "cell_type": "code",
      "source": [
        "temp = [1, 2, 3, 4, 5, 6, 7, 8 ,9, 10]\n",
        "temp_array = np.array(temp)\n",
        "print(temp)\n",
        "print(temp_array)"
      ],
      "metadata": {
        "colab": {
          "base_uri": "https://localhost:8080/"
        },
        "id": "e2IH-JvF5B3Z",
        "outputId": "ff4d7189-a873-4521-ac7a-7d59d9f402c3"
      },
      "execution_count": null,
      "outputs": [
        {
          "output_type": "stream",
          "name": "stdout",
          "text": [
            "[1, 2, 3, 4, 5, 6, 7, 8, 9, 10]\n",
            "[ 1  2  3  4  5  6  7  8  9 10]\n"
          ]
        }
      ]
    },
    {
      "cell_type": "code",
      "source": [
        "print(type(temp))\n",
        "print(type(temp_array))\n",
        "print(temp_array.shape)\n",
        "print(temp_array.ndim)"
      ],
      "metadata": {
        "colab": {
          "base_uri": "https://localhost:8080/"
        },
        "id": "_w_BKhWW5bAh",
        "outputId": "40b65747-b4b7-4293-cbc7-334e6f6f1e02"
      },
      "execution_count": null,
      "outputs": [
        {
          "output_type": "stream",
          "name": "stdout",
          "text": [
            "<class 'list'>\n",
            "<class 'numpy.ndarray'>\n",
            "(10,)\n",
            "1\n"
          ]
        }
      ]
    },
    {
      "cell_type": "markdown",
      "source": [
        "- n 번째 인수를 출력"
      ],
      "metadata": {
        "id": "xOyf-zjQ6OJa"
      }
    },
    {
      "cell_type": "code",
      "source": [
        "temp_array[1]"
      ],
      "metadata": {
        "colab": {
          "base_uri": "https://localhost:8080/"
        },
        "id": "03byNMuN6QFU",
        "outputId": "f23c47a1-ea55-4454-a97c-1a502df7472a"
      },
      "execution_count": null,
      "outputs": [
        {
          "output_type": "execute_result",
          "data": {
            "text/plain": [
              "2"
            ]
          },
          "metadata": {},
          "execution_count": 6
        }
      ]
    },
    {
      "cell_type": "code",
      "source": [
        "temp_array[-1]"
      ],
      "metadata": {
        "colab": {
          "base_uri": "https://localhost:8080/"
        },
        "id": "6H6Z2WHP6Xiq",
        "outputId": "d6b2ad6b-f8c1-40f7-b129-8811ec605ac6"
      },
      "execution_count": null,
      "outputs": [
        {
          "output_type": "execute_result",
          "data": {
            "text/plain": [
              "10"
            ]
          },
          "metadata": {},
          "execution_count": 7
        }
      ]
    },
    {
      "cell_type": "markdown",
      "source": [
        "### 사칙연산"
      ],
      "metadata": {
        "id": "kqWHHZpD6cpy"
      }
    },
    {
      "cell_type": "code",
      "source": [
        "score1 = [10, 15, 40, 25, 13, 33]\n",
        "score2 = [30, 40, 12, 124, 123, 222]\n",
        "\n",
        "score1 + score2"
      ],
      "metadata": {
        "colab": {
          "base_uri": "https://localhost:8080/"
        },
        "id": "Tgz3zU8F6i4-",
        "outputId": "c9622dc6-0c2f-4eae-dc5e-726cf7d28ca6"
      },
      "execution_count": null,
      "outputs": [
        {
          "output_type": "execute_result",
          "data": {
            "text/plain": [
              "[10, 15, 40, 25, 13, 33, 30, 40, 12, 124, 123, 222]"
            ]
          },
          "metadata": {},
          "execution_count": 12
        }
      ]
    },
    {
      "cell_type": "code",
      "source": [
        "score1_arr = np.array(score1)\n",
        "score2_arr = np.array(score2)\n",
        "\n",
        "result = score1_arr + score2_arr"
      ],
      "metadata": {
        "id": "KcbwgnUr60me"
      },
      "execution_count": null,
      "outputs": []
    },
    {
      "cell_type": "code",
      "source": [
        "result"
      ],
      "metadata": {
        "colab": {
          "base_uri": "https://localhost:8080/"
        },
        "id": "a22tsans_Rli",
        "outputId": "ed80b855-3a76-405b-93ee-62a8ad5baed0"
      },
      "execution_count": null,
      "outputs": [
        {
          "output_type": "execute_result",
          "data": {
            "text/plain": [
              "array([ 40,  55,  52, 149, 136, 255])"
            ]
          },
          "metadata": {},
          "execution_count": 15
        }
      ]
    },
    {
      "cell_type": "code",
      "source": [
        "# 최솟값\n",
        "np.min(result)"
      ],
      "metadata": {
        "colab": {
          "base_uri": "https://localhost:8080/"
        },
        "id": "dvnxrTdb_VsT",
        "outputId": "57441e1e-dcf1-4fa6-89af-9408048497e5"
      },
      "execution_count": null,
      "outputs": [
        {
          "output_type": "execute_result",
          "data": {
            "text/plain": [
              "40"
            ]
          },
          "metadata": {},
          "execution_count": 18
        }
      ]
    },
    {
      "cell_type": "code",
      "source": [
        "# 최댓값\n",
        "np.max(result)"
      ],
      "metadata": {
        "colab": {
          "base_uri": "https://localhost:8080/"
        },
        "id": "_TSR1VsV_ath",
        "outputId": "cc1f1d54-dabc-4f33-e111-39ce052b68b2"
      },
      "execution_count": null,
      "outputs": [
        {
          "output_type": "execute_result",
          "data": {
            "text/plain": [
              "255"
            ]
          },
          "metadata": {},
          "execution_count": 17
        }
      ]
    },
    {
      "cell_type": "code",
      "source": [
        "#SUM\n",
        "np.sum(result)"
      ],
      "metadata": {
        "colab": {
          "base_uri": "https://localhost:8080/"
        },
        "id": "7B1CxOUB_o4T",
        "outputId": "fd462be3-a60e-48a3-dcf3-7876a87bd93d"
      },
      "execution_count": null,
      "outputs": [
        {
          "output_type": "execute_result",
          "data": {
            "text/plain": [
              "687"
            ]
          },
          "metadata": {},
          "execution_count": 20
        }
      ]
    },
    {
      "cell_type": "markdown",
      "source": [
        "### 배열(행렬,Matrix)의 생성\n",
        "- 0차원부터 3차원까지로 구성"
      ],
      "metadata": {
        "id": "SeXzFfV1_-Eh"
      }
    },
    {
      "cell_type": "code",
      "source": [
        "temp_arr = np.array(30)\n",
        "print(temp_arr)\n",
        "print(type(temp_arr))\n",
        "print(temp_arr.shape)"
      ],
      "metadata": {
        "colab": {
          "base_uri": "https://localhost:8080/"
        },
        "id": "q12GckU8AI31",
        "outputId": "dcd5315f-e97d-489e-a52b-f7b445091310"
      },
      "execution_count": null,
      "outputs": [
        {
          "output_type": "stream",
          "name": "stdout",
          "text": [
            "30\n",
            "<class 'numpy.ndarray'>\n",
            "()\n"
          ]
        }
      ]
    },
    {
      "cell_type": "code",
      "source": [
        "# .shape / .ndim\n",
        "temp_arr = np.array([1, 2, 3])\n",
        "print(temp_arr.shape) # 행렬의 형태\n",
        "print(temp_arr.ndim) # n차원"
      ],
      "metadata": {
        "colab": {
          "base_uri": "https://localhost:8080/"
        },
        "id": "tK92ErlgAgWC",
        "outputId": "3005de61-6cda-4b01-8a52-ab9747a18343"
      },
      "execution_count": null,
      "outputs": [
        {
          "output_type": "stream",
          "name": "stdout",
          "text": [
            "(3,)\n",
            "1\n"
          ]
        }
      ]
    },
    {
      "cell_type": "markdown",
      "source": [
        "### 2차원 배열\n",
        "- 정형 데이터(엑셀 데이터)"
      ],
      "metadata": {
        "id": "7UMkaI8yB9A6"
      }
    },
    {
      "cell_type": "code",
      "source": [
        "# 2차원 배열 생성\n",
        "temp_arr = np.array([[1, 2, 3], [4, 5, 6]])\n",
        "print(temp_arr.shape) # 행렬의 형태\n",
        "print(temp_arr.ndim) # n차원"
      ],
      "metadata": {
        "colab": {
          "base_uri": "https://localhost:8080/"
        },
        "id": "dhysxFqzAvTy",
        "outputId": "e66e15f7-9da7-463a-dcc7-2241c7e9406e"
      },
      "execution_count": null,
      "outputs": [
        {
          "output_type": "stream",
          "name": "stdout",
          "text": [
            "(2, 3)\n",
            "2\n"
          ]
        }
      ]
    },
    {
      "cell_type": "markdown",
      "source": [
        "### 3차원 배열\n",
        "- 이미지 데이터"
      ],
      "metadata": {
        "id": "9Hm0Ym4YCEZC"
      }
    },
    {
      "cell_type": "code",
      "source": [
        "# 3차원 배열 생성\n",
        "temp_arr = np.array([[[1, 2, 3], [4, 5, 6]], [[1, 2, 3], [4, 5, 6]]])\n",
        "print(temp_arr.shape) # 행렬의 형태\n",
        "print(temp_arr.ndim) # n차원"
      ],
      "metadata": {
        "colab": {
          "base_uri": "https://localhost:8080/"
        },
        "id": "6OsduVfKCFyt",
        "outputId": "bd82b2c2-620f-4256-ff7e-1e1420a2a3d3"
      },
      "execution_count": null,
      "outputs": [
        {
          "output_type": "stream",
          "name": "stdout",
          "text": [
            "(2, 2, 3)\n",
            "3\n"
          ]
        }
      ]
    },
    {
      "cell_type": "code",
      "source": [
        "#ndmin 배열을 n차원으로 보이게 만든다\n",
        "temp_arr = np.array([1, 2, 3, 4], ndmin = 2)\n",
        "print(temp_arr.shape)\n",
        "print(temp_arr.ndim)"
      ],
      "metadata": {
        "colab": {
          "base_uri": "https://localhost:8080/"
        },
        "id": "fCEtdp7NC4v7",
        "outputId": "da01c4da-5ec9-4bee-c509-d630ad9356d1"
      },
      "execution_count": null,
      "outputs": [
        {
          "output_type": "stream",
          "name": "stdout",
          "text": [
            "(1, 4)\n",
            "2\n"
          ]
        }
      ]
    },
    {
      "cell_type": "markdown",
      "source": [
        "### 배열을 생성하는 다양한 방법들\n",
        "- 모두 0으로 채우기\n"
      ],
      "metadata": {
        "id": "oSMpFtI2DbgZ"
      }
    },
    {
      "cell_type": "code",
      "source": [
        "temp_arr = np.zeros((10, 5))\n",
        "temp_arr"
      ],
      "metadata": {
        "colab": {
          "base_uri": "https://localhost:8080/"
        },
        "id": "xcco4YYrDgA_",
        "outputId": "180d3d4a-f408-4f84-c029-7d8f9925af21"
      },
      "execution_count": null,
      "outputs": [
        {
          "output_type": "execute_result",
          "data": {
            "text/plain": [
              "array([[0., 0., 0., 0., 0.],\n",
              "       [0., 0., 0., 0., 0.],\n",
              "       [0., 0., 0., 0., 0.],\n",
              "       [0., 0., 0., 0., 0.],\n",
              "       [0., 0., 0., 0., 0.],\n",
              "       [0., 0., 0., 0., 0.],\n",
              "       [0., 0., 0., 0., 0.],\n",
              "       [0., 0., 0., 0., 0.],\n",
              "       [0., 0., 0., 0., 0.],\n",
              "       [0., 0., 0., 0., 0.]])"
            ]
          },
          "metadata": {},
          "execution_count": 35
        }
      ]
    },
    {
      "cell_type": "markdown",
      "source": [
        "- 1로 채우기"
      ],
      "metadata": {
        "id": "w-yfhT5nD_4x"
      }
    },
    {
      "cell_type": "code",
      "source": [
        "temp_arr = np.ones((10, 5))\n",
        "temp_arr"
      ],
      "metadata": {
        "colab": {
          "base_uri": "https://localhost:8080/"
        },
        "id": "-sJA8hk9D-ta",
        "outputId": "2c954f65-35be-45fa-8bd6-6041ce40908c"
      },
      "execution_count": null,
      "outputs": [
        {
          "output_type": "execute_result",
          "data": {
            "text/plain": [
              "array([[1., 1., 1., 1., 1.],\n",
              "       [1., 1., 1., 1., 1.],\n",
              "       [1., 1., 1., 1., 1.],\n",
              "       [1., 1., 1., 1., 1.],\n",
              "       [1., 1., 1., 1., 1.],\n",
              "       [1., 1., 1., 1., 1.],\n",
              "       [1., 1., 1., 1., 1.],\n",
              "       [1., 1., 1., 1., 1.],\n",
              "       [1., 1., 1., 1., 1.],\n",
              "       [1., 1., 1., 1., 1.]])"
            ]
          },
          "metadata": {},
          "execution_count": 36
        }
      ]
    },
    {
      "cell_type": "markdown",
      "source": [
        "- 임의의 상수값으로 채우기"
      ],
      "metadata": {
        "id": "OU7iJqvg4OVZ"
      }
    },
    {
      "cell_type": "code",
      "source": [
        "temp_arr = np.full((2,3), 10)\n",
        "temp_arr"
      ],
      "metadata": {
        "colab": {
          "base_uri": "https://localhost:8080/"
        },
        "id": "We5ZQU2tFD31",
        "outputId": "017f4499-842e-4618-bd2c-b90d33e021af"
      },
      "execution_count": null,
      "outputs": [
        {
          "output_type": "execute_result",
          "data": {
            "text/plain": [
              "array([[10, 10, 10],\n",
              "       [10, 10, 10]])"
            ]
          },
          "metadata": {},
          "execution_count": 39
        }
      ]
    },
    {
      "cell_type": "markdown",
      "source": [
        "- 최소 및 최대 숫자의 범위를 정하고, 구간 별로 값 생성하기"
      ],
      "metadata": {
        "id": "9rhvZXcmFQMq"
      }
    },
    {
      "cell_type": "code",
      "source": [
        "# np.linspace(최솟값, 최댓값, 값의 갯수)\n",
        "temp_arr = np.linspace(5, 10, 9)\n",
        "temp_arr"
      ],
      "metadata": {
        "colab": {
          "base_uri": "https://localhost:8080/"
        },
        "id": "EjF2yx8_FU0i",
        "outputId": "388ad844-9170-4051-9c26-e979c637091e"
      },
      "execution_count": null,
      "outputs": [
        {
          "output_type": "execute_result",
          "data": {
            "text/plain": [
              "array([ 5.   ,  5.625,  6.25 ,  6.875,  7.5  ,  8.125,  8.75 ,  9.375,\n",
              "       10.   ])"
            ]
          },
          "metadata": {},
          "execution_count": 44
        }
      ]
    },
    {
      "cell_type": "markdown",
      "source": [
        "- np.arange()"
      ],
      "metadata": {
        "id": "DZhvajXhHUSE"
      }
    },
    {
      "cell_type": "code",
      "source": [
        "temp_arr = np.arange(1, 100, 4)\n",
        "temp_arr"
      ],
      "metadata": {
        "colab": {
          "base_uri": "https://localhost:8080/"
        },
        "id": "dIVgTOBuHbGv",
        "outputId": "9a86fb98-05b0-455f-e8f5-baaeec94bd3f"
      },
      "execution_count": null,
      "outputs": [
        {
          "output_type": "execute_result",
          "data": {
            "text/plain": [
              "array([ 1,  5,  9, 13, 17, 21, 25, 29, 33, 37, 41, 45, 49, 53, 57, 61, 65,\n",
              "       69, 73, 77, 81, 85, 89, 93, 97])"
            ]
          },
          "metadata": {},
          "execution_count": 50
        }
      ]
    },
    {
      "cell_type": "markdown",
      "source": [
        "- 임의의 난수 생성"
      ],
      "metadata": {
        "id": "ggyL4Ik7IMex"
      }
    },
    {
      "cell_type": "code",
      "source": [
        "from numpy import random\n",
        "x = random.rand()\n",
        "print(x)"
      ],
      "metadata": {
        "colab": {
          "base_uri": "https://localhost:8080/"
        },
        "id": "E3I2vjIoIOxv",
        "outputId": "466fe1c8-142a-4a15-ff62-ef761651dbf3"
      },
      "execution_count": null,
      "outputs": [
        {
          "output_type": "stream",
          "name": "stdout",
          "text": [
            "0.5398128065430364\n"
          ]
        }
      ]
    },
    {
      "cell_type": "markdown",
      "source": [
        "### 배열 연산\n",
        "- 덧셈 : np.add()\n",
        "- 뺄셈 : np.subtract()\n",
        "- 곱셈 : np.multiply()\n",
        "- 나눗셈 : np.divide()"
      ],
      "metadata": {
        "id": "Jh5DRu9GPQgy"
      }
    },
    {
      "cell_type": "code",
      "source": [
        "import numpy as np\n",
        "\n",
        "array_01 = np.array([1, 2, 3])\n",
        "array_02 = np.array([10, 20, 30])\n",
        "\n",
        "result = np.add(array_01, array_02)\n",
        "result"
      ],
      "metadata": {
        "colab": {
          "base_uri": "https://localhost:8080/"
        },
        "id": "JRTx6550PhhL",
        "outputId": "8b0e0888-7e98-46cc-928e-2b63a5bcc151"
      },
      "execution_count": null,
      "outputs": [
        {
          "output_type": "execute_result",
          "data": {
            "text/plain": [
              "array([11, 22, 33])"
            ]
          },
          "metadata": {},
          "execution_count": 54
        }
      ]
    },
    {
      "cell_type": "code",
      "source": [
        "# 뺄셈\n",
        "result = np.subtract(array_01, array_02)\n",
        "result"
      ],
      "metadata": {
        "colab": {
          "base_uri": "https://localhost:8080/"
        },
        "id": "lRSPwBt9P87R",
        "outputId": "cf683b29-82cb-4c03-806e-2acef30fc7a3"
      },
      "execution_count": null,
      "outputs": [
        {
          "output_type": "execute_result",
          "data": {
            "text/plain": [
              "array([ -9, -18, -27])"
            ]
          },
          "metadata": {},
          "execution_count": 55
        }
      ]
    },
    {
      "cell_type": "code",
      "source": [
        "# 곱셈\n",
        "result = np.multiply(array_01, array_02)\n",
        "result"
      ],
      "metadata": {
        "colab": {
          "base_uri": "https://localhost:8080/"
        },
        "id": "4aLnvnrYQGRR",
        "outputId": "c68e4f71-e260-4c10-fbff-fdcc4624f409"
      },
      "execution_count": null,
      "outputs": [
        {
          "output_type": "execute_result",
          "data": {
            "text/plain": [
              "array([10, 40, 90])"
            ]
          },
          "metadata": {},
          "execution_count": 56
        }
      ]
    },
    {
      "cell_type": "code",
      "source": [
        "# 나눗셈\n",
        "result = np.divide(array_01, array_02)\n",
        "result"
      ],
      "metadata": {
        "colab": {
          "base_uri": "https://localhost:8080/"
        },
        "id": "hdkA-fV9QKbI",
        "outputId": "c310f7f8-e281-4f5e-fc3a-8ecb6667f774"
      },
      "execution_count": null,
      "outputs": [
        {
          "output_type": "execute_result",
          "data": {
            "text/plain": [
              "array([0.1, 0.1, 0.1])"
            ]
          },
          "metadata": {},
          "execution_count": 57
        }
      ]
    },
    {
      "cell_type": "code",
      "source": [
        "array_01 = np.array([1, 2, 3])\n",
        "array_02 = np.array([1, 2, 3])\n",
        "# 거듭제곱\n",
        "result = np.power(array_01, array_02)\n",
        "result"
      ],
      "metadata": {
        "colab": {
          "base_uri": "https://localhost:8080/"
        },
        "id": "QzLiR8uqQVXG",
        "outputId": "cf0d0010-6796-4321-ddd1-2702adb14504"
      },
      "execution_count": null,
      "outputs": [
        {
          "output_type": "execute_result",
          "data": {
            "text/plain": [
              "array([ 1,  4, 27])"
            ]
          },
          "metadata": {},
          "execution_count": 58
        }
      ]
    },
    {
      "cell_type": "markdown",
      "source": [
        "### 소숫점 정렬"
      ],
      "metadata": {
        "id": "rDPjRil6Q1t7"
      }
    },
    {
      "cell_type": "markdown",
      "source": [
        "- 코드는 실행속도가 빨라야 한다"
      ],
      "metadata": {
        "id": "yc5PV_5BSdr5"
      }
    },
    {
      "cell_type": "code",
      "source": [
        "# 소숫점 날리기\n",
        "\n",
        "temp_arr = np.trunc([-1.23, 1.23])\n",
        "print(temp_arr)"
      ],
      "metadata": {
        "colab": {
          "base_uri": "https://localhost:8080/"
        },
        "id": "5h_XYsJZRQr5",
        "outputId": "cafe4975-506e-4917-ffc8-2db8f82f5e99"
      },
      "execution_count": null,
      "outputs": [
        {
          "output_type": "stream",
          "name": "stdout",
          "text": [
            "[-1.  1.]\n"
          ]
        }
      ]
    },
    {
      "cell_type": "code",
      "source": [
        "# 소숫점 날리기\n",
        "\n",
        "temp_arr = np.fix([-1.23, 1.23])\n",
        "print(temp_arr)"
      ],
      "metadata": {
        "colab": {
          "base_uri": "https://localhost:8080/"
        },
        "id": "DYhXgqzQRZmO",
        "outputId": "39a4ec33-a2a3-4a34-a106-6be5c3ef0e68"
      },
      "execution_count": null,
      "outputs": [
        {
          "output_type": "stream",
          "name": "stdout",
          "text": [
            "[-1.  1.]\n"
          ]
        }
      ]
    },
    {
      "cell_type": "markdown",
      "source": [
        "- 소숫점 n번째 자리에서 반올림"
      ],
      "metadata": {
        "id": "mr8mglveSDdh"
      }
    },
    {
      "cell_type": "code",
      "source": [
        "temp_arr = np.around([-1.123131, 1.123131], 3)\n",
        "temp_arr"
      ],
      "metadata": {
        "colab": {
          "base_uri": "https://localhost:8080/"
        },
        "id": "ae2y8AmJSGlT",
        "outputId": "3371639b-a5ef-4586-c49e-d9c43adc3c28"
      },
      "execution_count": null,
      "outputs": [
        {
          "output_type": "execute_result",
          "data": {
            "text/plain": [
              "array([-1.123,  1.123])"
            ]
          },
          "metadata": {},
          "execution_count": 61
        }
      ]
    },
    {
      "cell_type": "code",
      "source": [
        "temp_arr = np.round([-1.123131, 1.123131], 3)\n",
        "temp_arr"
      ],
      "metadata": {
        "colab": {
          "base_uri": "https://localhost:8080/"
        },
        "id": "1rnn626aSOLY",
        "outputId": "b6dfa110-bd8c-442e-cd8c-316dc1882354"
      },
      "execution_count": null,
      "outputs": [
        {
          "output_type": "execute_result",
          "data": {
            "text/plain": [
              "array([-1.123,  1.123])"
            ]
          },
          "metadata": {},
          "execution_count": 62
        }
      ]
    },
    {
      "cell_type": "markdown",
      "source": [
        "- 소숫점 모두 내리기"
      ],
      "metadata": {
        "id": "9q_lpiQ1UR8j"
      }
    },
    {
      "cell_type": "code",
      "source": [
        "temp_arr = np.floor([-1.23456, 1.23456])\n",
        "print(temp_arr)"
      ],
      "metadata": {
        "colab": {
          "base_uri": "https://localhost:8080/"
        },
        "id": "G20kQzPEUUzO",
        "outputId": "7aa4c5e6-35b0-4b91-b680-6099f4dd413e"
      },
      "execution_count": null,
      "outputs": [
        {
          "output_type": "stream",
          "name": "stdout",
          "text": [
            "[-2.  1.]\n"
          ]
        }
      ]
    },
    {
      "cell_type": "markdown",
      "source": [
        "- 올림"
      ],
      "metadata": {
        "id": "vlDrG5EgUhRM"
      }
    },
    {
      "cell_type": "code",
      "source": [
        "temp_arr = np.ceil([-1.23456, 1.23456])\n",
        "print(temp_arr)"
      ],
      "metadata": {
        "colab": {
          "base_uri": "https://localhost:8080/"
        },
        "id": "f7PCzad8Uda8",
        "outputId": "2c256db5-ff4d-4880-805d-253984994b30"
      },
      "execution_count": null,
      "outputs": [
        {
          "output_type": "stream",
          "name": "stdout",
          "text": [
            "[-1.  2.]\n"
          ]
        }
      ]
    },
    {
      "cell_type": "markdown",
      "source": [
        "### 조건문\n",
        "- where : 조건식 1개일 때 활용\n",
        "- select : 다중 조건일 때 활용"
      ],
      "metadata": {
        "id": "XizpgNm4VdoC"
      }
    },
    {
      "cell_type": "code",
      "source": [
        "temp_arr = np.arange(10)\n",
        "temp_arr"
      ],
      "metadata": {
        "colab": {
          "base_uri": "https://localhost:8080/"
        },
        "id": "zrh42bNzVkn_",
        "outputId": "d6ddd24a-52b6-43e3-89fb-492cde588621"
      },
      "execution_count": null,
      "outputs": [
        {
          "output_type": "execute_result",
          "data": {
            "text/plain": [
              "array([0, 1, 2, 3, 4, 5, 6, 7, 8, 9])"
            ]
          },
          "metadata": {},
          "execution_count": 78
        }
      ]
    },
    {
      "cell_type": "markdown",
      "source": [
        "- np.where()"
      ],
      "metadata": {
        "id": "r4zK8dZNVr78"
      }
    },
    {
      "cell_type": "code",
      "source": [
        "np.where(temp_arr < 5, temp_arr, 10 * temp_arr)"
      ],
      "metadata": {
        "colab": {
          "base_uri": "https://localhost:8080/"
        },
        "id": "aqo9u3LWVpyf",
        "outputId": "afa27704-d33e-4979-88ba-a73dd82e017c"
      },
      "execution_count": null,
      "outputs": [
        {
          "output_type": "execute_result",
          "data": {
            "text/plain": [
              "array([ 0,  1,  2,  3,  4, 50, 60, 70, 80, 90])"
            ]
          },
          "metadata": {},
          "execution_count": 79
        }
      ]
    },
    {
      "cell_type": "markdown",
      "source": [
        "np.select()"
      ],
      "metadata": {
        "id": "7UpU6jMOV62B"
      }
    },
    {
      "cell_type": "code",
      "source": [
        "temp_arr = np.arange(10)\n",
        "cond_list = [temp_arr > 5, temp_arr < 2]\n",
        "choice_list = [temp_arr * 3, temp_arr + 10]\n",
        "np.select(cond_list, choice_list, default = temp_arr)"
      ],
      "metadata": {
        "colab": {
          "base_uri": "https://localhost:8080/"
        },
        "id": "ORs71WiQVrbh",
        "outputId": "db6744c9-1467-40ad-ab57-1b9aef60b894"
      },
      "execution_count": null,
      "outputs": [
        {
          "output_type": "execute_result",
          "data": {
            "text/plain": [
              "array([10, 11,  2,  3,  4,  5, 18, 21, 24, 27])"
            ]
          },
          "metadata": {},
          "execution_count": 83
        }
      ]
    },
    {
      "cell_type": "markdown",
      "source": [],
      "metadata": {
        "id": "3yGpMs8PVrDp"
      }
    }
  ]
}